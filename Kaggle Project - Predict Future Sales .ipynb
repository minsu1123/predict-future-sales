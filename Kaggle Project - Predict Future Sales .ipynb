{
 "cells": [
  {
   "cell_type": "markdown",
   "metadata": {},
   "source": [
    "# Predict Future Sales"
   ]
  },
  {
   "cell_type": "markdown",
   "metadata": {},
   "source": [
    "## Import"
   ]
  },
  {
   "cell_type": "code",
   "execution_count": 1,
   "metadata": {},
   "outputs": [],
   "source": [
    "import numpy as np\n",
    "import pandas as pd\n",
    "import matplotlib.pyplot as plt\n",
    "import seaborn as sns\n",
    "from sklearn import ensemble, metrics"
   ]
  },
  {
   "cell_type": "markdown",
   "metadata": {},
   "source": [
    "## Data 확인"
   ]
  },
  {
   "cell_type": "code",
   "execution_count": 2,
   "metadata": {},
   "outputs": [],
   "source": [
    "items = pd.read_csv('items.csv')\n",
    "shops = pd.read_csv('shops.csv')\n",
    "cats = pd.read_csv('item_categories.csv')\n",
    "train = pd.read_csv('sales_train.csv')\n",
    "test = pd.read_csv('test.csv')"
   ]
  },
  {
   "cell_type": "code",
   "execution_count": 3,
   "metadata": {
    "scrolled": true
   },
   "outputs": [
    {
     "data": {
      "text/html": [
       "<div>\n",
       "<style scoped>\n",
       "    .dataframe tbody tr th:only-of-type {\n",
       "        vertical-align: middle;\n",
       "    }\n",
       "\n",
       "    .dataframe tbody tr th {\n",
       "        vertical-align: top;\n",
       "    }\n",
       "\n",
       "    .dataframe thead th {\n",
       "        text-align: right;\n",
       "    }\n",
       "</style>\n",
       "<table border=\"1\" class=\"dataframe\">\n",
       "  <thead>\n",
       "    <tr style=\"text-align: right;\">\n",
       "      <th></th>\n",
       "      <th>item_name</th>\n",
       "      <th>item_id</th>\n",
       "      <th>item_category_id</th>\n",
       "    </tr>\n",
       "  </thead>\n",
       "  <tbody>\n",
       "    <tr>\n",
       "      <th>0</th>\n",
       "      <td>! ВО ВЛАСТИ НАВАЖДЕНИЯ (ПЛАСТ.)         D</td>\n",
       "      <td>0</td>\n",
       "      <td>40</td>\n",
       "    </tr>\n",
       "    <tr>\n",
       "      <th>1</th>\n",
       "      <td>!ABBYY FineReader 12 Professional Edition Full...</td>\n",
       "      <td>1</td>\n",
       "      <td>76</td>\n",
       "    </tr>\n",
       "    <tr>\n",
       "      <th>2</th>\n",
       "      <td>***В ЛУЧАХ СЛАВЫ   (UNV)                    D</td>\n",
       "      <td>2</td>\n",
       "      <td>40</td>\n",
       "    </tr>\n",
       "    <tr>\n",
       "      <th>3</th>\n",
       "      <td>***ГОЛУБАЯ ВОЛНА  (Univ)                      D</td>\n",
       "      <td>3</td>\n",
       "      <td>40</td>\n",
       "    </tr>\n",
       "    <tr>\n",
       "      <th>4</th>\n",
       "      <td>***КОРОБКА (СТЕКЛО)                       D</td>\n",
       "      <td>4</td>\n",
       "      <td>40</td>\n",
       "    </tr>\n",
       "  </tbody>\n",
       "</table>\n",
       "</div>"
      ],
      "text/plain": [
       "                                           item_name  item_id  \\\n",
       "0          ! ВО ВЛАСТИ НАВАЖДЕНИЯ (ПЛАСТ.)         D        0   \n",
       "1  !ABBYY FineReader 12 Professional Edition Full...        1   \n",
       "2      ***В ЛУЧАХ СЛАВЫ   (UNV)                    D        2   \n",
       "3    ***ГОЛУБАЯ ВОЛНА  (Univ)                      D        3   \n",
       "4        ***КОРОБКА (СТЕКЛО)                       D        4   \n",
       "\n",
       "   item_category_id  \n",
       "0                40  \n",
       "1                76  \n",
       "2                40  \n",
       "3                40  \n",
       "4                40  "
      ]
     },
     "execution_count": 3,
     "metadata": {},
     "output_type": "execute_result"
    }
   ],
   "source": [
    "items.head()"
   ]
  },
  {
   "cell_type": "code",
   "execution_count": 4,
   "metadata": {},
   "outputs": [
    {
     "data": {
      "text/html": [
       "<div>\n",
       "<style scoped>\n",
       "    .dataframe tbody tr th:only-of-type {\n",
       "        vertical-align: middle;\n",
       "    }\n",
       "\n",
       "    .dataframe tbody tr th {\n",
       "        vertical-align: top;\n",
       "    }\n",
       "\n",
       "    .dataframe thead th {\n",
       "        text-align: right;\n",
       "    }\n",
       "</style>\n",
       "<table border=\"1\" class=\"dataframe\">\n",
       "  <thead>\n",
       "    <tr style=\"text-align: right;\">\n",
       "      <th></th>\n",
       "      <th>shop_name</th>\n",
       "      <th>shop_id</th>\n",
       "    </tr>\n",
       "  </thead>\n",
       "  <tbody>\n",
       "    <tr>\n",
       "      <th>0</th>\n",
       "      <td>!Якутск Орджоникидзе, 56 фран</td>\n",
       "      <td>0</td>\n",
       "    </tr>\n",
       "    <tr>\n",
       "      <th>1</th>\n",
       "      <td>!Якутск ТЦ \"Центральный\" фран</td>\n",
       "      <td>1</td>\n",
       "    </tr>\n",
       "    <tr>\n",
       "      <th>2</th>\n",
       "      <td>Адыгея ТЦ \"Мега\"</td>\n",
       "      <td>2</td>\n",
       "    </tr>\n",
       "    <tr>\n",
       "      <th>3</th>\n",
       "      <td>Балашиха ТРК \"Октябрь-Киномир\"</td>\n",
       "      <td>3</td>\n",
       "    </tr>\n",
       "    <tr>\n",
       "      <th>4</th>\n",
       "      <td>Волжский ТЦ \"Волга Молл\"</td>\n",
       "      <td>4</td>\n",
       "    </tr>\n",
       "  </tbody>\n",
       "</table>\n",
       "</div>"
      ],
      "text/plain": [
       "                        shop_name  shop_id\n",
       "0   !Якутск Орджоникидзе, 56 фран        0\n",
       "1   !Якутск ТЦ \"Центральный\" фран        1\n",
       "2                Адыгея ТЦ \"Мега\"        2\n",
       "3  Балашиха ТРК \"Октябрь-Киномир\"        3\n",
       "4        Волжский ТЦ \"Волга Молл\"        4"
      ]
     },
     "execution_count": 4,
     "metadata": {},
     "output_type": "execute_result"
    }
   ],
   "source": [
    "shops.head()"
   ]
  },
  {
   "cell_type": "code",
   "execution_count": 5,
   "metadata": {},
   "outputs": [
    {
     "data": {
      "text/html": [
       "<div>\n",
       "<style scoped>\n",
       "    .dataframe tbody tr th:only-of-type {\n",
       "        vertical-align: middle;\n",
       "    }\n",
       "\n",
       "    .dataframe tbody tr th {\n",
       "        vertical-align: top;\n",
       "    }\n",
       "\n",
       "    .dataframe thead th {\n",
       "        text-align: right;\n",
       "    }\n",
       "</style>\n",
       "<table border=\"1\" class=\"dataframe\">\n",
       "  <thead>\n",
       "    <tr style=\"text-align: right;\">\n",
       "      <th></th>\n",
       "      <th>item_category_name</th>\n",
       "      <th>item_category_id</th>\n",
       "    </tr>\n",
       "  </thead>\n",
       "  <tbody>\n",
       "    <tr>\n",
       "      <th>0</th>\n",
       "      <td>PC - Гарнитуры/Наушники</td>\n",
       "      <td>0</td>\n",
       "    </tr>\n",
       "    <tr>\n",
       "      <th>1</th>\n",
       "      <td>Аксессуары - PS2</td>\n",
       "      <td>1</td>\n",
       "    </tr>\n",
       "    <tr>\n",
       "      <th>2</th>\n",
       "      <td>Аксессуары - PS3</td>\n",
       "      <td>2</td>\n",
       "    </tr>\n",
       "    <tr>\n",
       "      <th>3</th>\n",
       "      <td>Аксессуары - PS4</td>\n",
       "      <td>3</td>\n",
       "    </tr>\n",
       "    <tr>\n",
       "      <th>4</th>\n",
       "      <td>Аксессуары - PSP</td>\n",
       "      <td>4</td>\n",
       "    </tr>\n",
       "  </tbody>\n",
       "</table>\n",
       "</div>"
      ],
      "text/plain": [
       "        item_category_name  item_category_id\n",
       "0  PC - Гарнитуры/Наушники                 0\n",
       "1         Аксессуары - PS2                 1\n",
       "2         Аксессуары - PS3                 2\n",
       "3         Аксессуары - PS4                 3\n",
       "4         Аксессуары - PSP                 4"
      ]
     },
     "execution_count": 5,
     "metadata": {},
     "output_type": "execute_result"
    }
   ],
   "source": [
    "cats.head()"
   ]
  },
  {
   "cell_type": "code",
   "execution_count": 6,
   "metadata": {
    "scrolled": false
   },
   "outputs": [
    {
     "data": {
      "text/html": [
       "<div>\n",
       "<style scoped>\n",
       "    .dataframe tbody tr th:only-of-type {\n",
       "        vertical-align: middle;\n",
       "    }\n",
       "\n",
       "    .dataframe tbody tr th {\n",
       "        vertical-align: top;\n",
       "    }\n",
       "\n",
       "    .dataframe thead th {\n",
       "        text-align: right;\n",
       "    }\n",
       "</style>\n",
       "<table border=\"1\" class=\"dataframe\">\n",
       "  <thead>\n",
       "    <tr style=\"text-align: right;\">\n",
       "      <th></th>\n",
       "      <th>date</th>\n",
       "      <th>date_block_num</th>\n",
       "      <th>shop_id</th>\n",
       "      <th>item_id</th>\n",
       "      <th>item_price</th>\n",
       "      <th>item_cnt_day</th>\n",
       "    </tr>\n",
       "  </thead>\n",
       "  <tbody>\n",
       "    <tr>\n",
       "      <th>0</th>\n",
       "      <td>02.01.2013</td>\n",
       "      <td>0</td>\n",
       "      <td>59</td>\n",
       "      <td>22154</td>\n",
       "      <td>999.00</td>\n",
       "      <td>1.0</td>\n",
       "    </tr>\n",
       "    <tr>\n",
       "      <th>1</th>\n",
       "      <td>03.01.2013</td>\n",
       "      <td>0</td>\n",
       "      <td>25</td>\n",
       "      <td>2552</td>\n",
       "      <td>899.00</td>\n",
       "      <td>1.0</td>\n",
       "    </tr>\n",
       "    <tr>\n",
       "      <th>2</th>\n",
       "      <td>05.01.2013</td>\n",
       "      <td>0</td>\n",
       "      <td>25</td>\n",
       "      <td>2552</td>\n",
       "      <td>899.00</td>\n",
       "      <td>-1.0</td>\n",
       "    </tr>\n",
       "    <tr>\n",
       "      <th>3</th>\n",
       "      <td>06.01.2013</td>\n",
       "      <td>0</td>\n",
       "      <td>25</td>\n",
       "      <td>2554</td>\n",
       "      <td>1709.05</td>\n",
       "      <td>1.0</td>\n",
       "    </tr>\n",
       "    <tr>\n",
       "      <th>4</th>\n",
       "      <td>15.01.2013</td>\n",
       "      <td>0</td>\n",
       "      <td>25</td>\n",
       "      <td>2555</td>\n",
       "      <td>1099.00</td>\n",
       "      <td>1.0</td>\n",
       "    </tr>\n",
       "    <tr>\n",
       "      <th>...</th>\n",
       "      <td>...</td>\n",
       "      <td>...</td>\n",
       "      <td>...</td>\n",
       "      <td>...</td>\n",
       "      <td>...</td>\n",
       "      <td>...</td>\n",
       "    </tr>\n",
       "    <tr>\n",
       "      <th>2935844</th>\n",
       "      <td>10.10.2015</td>\n",
       "      <td>33</td>\n",
       "      <td>25</td>\n",
       "      <td>7409</td>\n",
       "      <td>299.00</td>\n",
       "      <td>1.0</td>\n",
       "    </tr>\n",
       "    <tr>\n",
       "      <th>2935845</th>\n",
       "      <td>09.10.2015</td>\n",
       "      <td>33</td>\n",
       "      <td>25</td>\n",
       "      <td>7460</td>\n",
       "      <td>299.00</td>\n",
       "      <td>1.0</td>\n",
       "    </tr>\n",
       "    <tr>\n",
       "      <th>2935846</th>\n",
       "      <td>14.10.2015</td>\n",
       "      <td>33</td>\n",
       "      <td>25</td>\n",
       "      <td>7459</td>\n",
       "      <td>349.00</td>\n",
       "      <td>1.0</td>\n",
       "    </tr>\n",
       "    <tr>\n",
       "      <th>2935847</th>\n",
       "      <td>22.10.2015</td>\n",
       "      <td>33</td>\n",
       "      <td>25</td>\n",
       "      <td>7440</td>\n",
       "      <td>299.00</td>\n",
       "      <td>1.0</td>\n",
       "    </tr>\n",
       "    <tr>\n",
       "      <th>2935848</th>\n",
       "      <td>03.10.2015</td>\n",
       "      <td>33</td>\n",
       "      <td>25</td>\n",
       "      <td>7460</td>\n",
       "      <td>299.00</td>\n",
       "      <td>1.0</td>\n",
       "    </tr>\n",
       "  </tbody>\n",
       "</table>\n",
       "<p>2935849 rows × 6 columns</p>\n",
       "</div>"
      ],
      "text/plain": [
       "               date  date_block_num  shop_id  item_id  item_price  \\\n",
       "0        02.01.2013               0       59    22154      999.00   \n",
       "1        03.01.2013               0       25     2552      899.00   \n",
       "2        05.01.2013               0       25     2552      899.00   \n",
       "3        06.01.2013               0       25     2554     1709.05   \n",
       "4        15.01.2013               0       25     2555     1099.00   \n",
       "...             ...             ...      ...      ...         ...   \n",
       "2935844  10.10.2015              33       25     7409      299.00   \n",
       "2935845  09.10.2015              33       25     7460      299.00   \n",
       "2935846  14.10.2015              33       25     7459      349.00   \n",
       "2935847  22.10.2015              33       25     7440      299.00   \n",
       "2935848  03.10.2015              33       25     7460      299.00   \n",
       "\n",
       "         item_cnt_day  \n",
       "0                 1.0  \n",
       "1                 1.0  \n",
       "2                -1.0  \n",
       "3                 1.0  \n",
       "4                 1.0  \n",
       "...               ...  \n",
       "2935844           1.0  \n",
       "2935845           1.0  \n",
       "2935846           1.0  \n",
       "2935847           1.0  \n",
       "2935848           1.0  \n",
       "\n",
       "[2935849 rows x 6 columns]"
      ]
     },
     "execution_count": 6,
     "metadata": {},
     "output_type": "execute_result"
    }
   ],
   "source": [
    "train"
   ]
  },
  {
   "cell_type": "code",
   "execution_count": 7,
   "metadata": {
    "scrolled": false
   },
   "outputs": [
    {
     "data": {
      "text/html": [
       "<div>\n",
       "<style scoped>\n",
       "    .dataframe tbody tr th:only-of-type {\n",
       "        vertical-align: middle;\n",
       "    }\n",
       "\n",
       "    .dataframe tbody tr th {\n",
       "        vertical-align: top;\n",
       "    }\n",
       "\n",
       "    .dataframe thead th {\n",
       "        text-align: right;\n",
       "    }\n",
       "</style>\n",
       "<table border=\"1\" class=\"dataframe\">\n",
       "  <thead>\n",
       "    <tr style=\"text-align: right;\">\n",
       "      <th></th>\n",
       "      <th>ID</th>\n",
       "      <th>shop_id</th>\n",
       "      <th>item_id</th>\n",
       "    </tr>\n",
       "  </thead>\n",
       "  <tbody>\n",
       "    <tr>\n",
       "      <th>0</th>\n",
       "      <td>0</td>\n",
       "      <td>5</td>\n",
       "      <td>5037</td>\n",
       "    </tr>\n",
       "    <tr>\n",
       "      <th>1</th>\n",
       "      <td>1</td>\n",
       "      <td>5</td>\n",
       "      <td>5320</td>\n",
       "    </tr>\n",
       "    <tr>\n",
       "      <th>2</th>\n",
       "      <td>2</td>\n",
       "      <td>5</td>\n",
       "      <td>5233</td>\n",
       "    </tr>\n",
       "    <tr>\n",
       "      <th>3</th>\n",
       "      <td>3</td>\n",
       "      <td>5</td>\n",
       "      <td>5232</td>\n",
       "    </tr>\n",
       "    <tr>\n",
       "      <th>4</th>\n",
       "      <td>4</td>\n",
       "      <td>5</td>\n",
       "      <td>5268</td>\n",
       "    </tr>\n",
       "    <tr>\n",
       "      <th>...</th>\n",
       "      <td>...</td>\n",
       "      <td>...</td>\n",
       "      <td>...</td>\n",
       "    </tr>\n",
       "    <tr>\n",
       "      <th>214195</th>\n",
       "      <td>214195</td>\n",
       "      <td>45</td>\n",
       "      <td>18454</td>\n",
       "    </tr>\n",
       "    <tr>\n",
       "      <th>214196</th>\n",
       "      <td>214196</td>\n",
       "      <td>45</td>\n",
       "      <td>16188</td>\n",
       "    </tr>\n",
       "    <tr>\n",
       "      <th>214197</th>\n",
       "      <td>214197</td>\n",
       "      <td>45</td>\n",
       "      <td>15757</td>\n",
       "    </tr>\n",
       "    <tr>\n",
       "      <th>214198</th>\n",
       "      <td>214198</td>\n",
       "      <td>45</td>\n",
       "      <td>19648</td>\n",
       "    </tr>\n",
       "    <tr>\n",
       "      <th>214199</th>\n",
       "      <td>214199</td>\n",
       "      <td>45</td>\n",
       "      <td>969</td>\n",
       "    </tr>\n",
       "  </tbody>\n",
       "</table>\n",
       "<p>214200 rows × 3 columns</p>\n",
       "</div>"
      ],
      "text/plain": [
       "            ID  shop_id  item_id\n",
       "0            0        5     5037\n",
       "1            1        5     5320\n",
       "2            2        5     5233\n",
       "3            3        5     5232\n",
       "4            4        5     5268\n",
       "...        ...      ...      ...\n",
       "214195  214195       45    18454\n",
       "214196  214196       45    16188\n",
       "214197  214197       45    15757\n",
       "214198  214198       45    19648\n",
       "214199  214199       45      969\n",
       "\n",
       "[214200 rows x 3 columns]"
      ]
     },
     "execution_count": 7,
     "metadata": {},
     "output_type": "execute_result"
    }
   ],
   "source": [
    "test"
   ]
  },
  {
   "cell_type": "code",
   "execution_count": 8,
   "metadata": {},
   "outputs": [
    {
     "name": "stdout",
     "output_type": "stream",
     "text": [
      "<class 'pandas.core.frame.DataFrame'>\n",
      "RangeIndex: 2935849 entries, 0 to 2935848\n",
      "Data columns (total 6 columns):\n",
      " #   Column          Dtype  \n",
      "---  ------          -----  \n",
      " 0   date            object \n",
      " 1   date_block_num  int64  \n",
      " 2   shop_id         int64  \n",
      " 3   item_id         int64  \n",
      " 4   item_price      float64\n",
      " 5   item_cnt_day    float64\n",
      "dtypes: float64(2), int64(3), object(1)\n",
      "memory usage: 134.4+ MB\n"
     ]
    }
   ],
   "source": [
    "train.info()"
   ]
  },
  {
   "cell_type": "code",
   "execution_count": 9,
   "metadata": {},
   "outputs": [
    {
     "name": "stdout",
     "output_type": "stream",
     "text": [
      "train shape :  (2935849, 6)\n",
      "test shape :  (214200, 3)\n",
      "items shape :  (22170, 3)\n",
      "shops shape :  (60, 2)\n",
      "cats shape :  (84, 2)\n"
     ]
    }
   ],
   "source": [
    "print('train shape : ', train.shape)\n",
    "print('test shape : ', test.shape)\n",
    "print('items shape : ', items.shape)\n",
    "print('shops shape : ', shops.shape)\n",
    "print('cats shape : ', cats.shape)"
   ]
  },
  {
   "cell_type": "markdown",
   "metadata": {},
   "source": [
    "# Data 전처리"
   ]
  },
  {
   "cell_type": "code",
   "execution_count": 10,
   "metadata": {},
   "outputs": [
    {
     "data": {
      "text/plain": [
       "(6, 0, 0, 0, 0)"
      ]
     },
     "execution_count": 10,
     "metadata": {},
     "output_type": "execute_result"
    }
   ],
   "source": [
    "# 중복 체크\n",
    "sum(train.duplicated()), sum(test.duplicated()),sum(items.duplicated()), sum(cats.duplicated()), sum(shops.duplicated())"
   ]
  },
  {
   "cell_type": "code",
   "execution_count": 11,
   "metadata": {},
   "outputs": [
    {
     "data": {
      "text/html": [
       "<div>\n",
       "<style scoped>\n",
       "    .dataframe tbody tr th:only-of-type {\n",
       "        vertical-align: middle;\n",
       "    }\n",
       "\n",
       "    .dataframe tbody tr th {\n",
       "        vertical-align: top;\n",
       "    }\n",
       "\n",
       "    .dataframe thead th {\n",
       "        text-align: right;\n",
       "    }\n",
       "</style>\n",
       "<table border=\"1\" class=\"dataframe\">\n",
       "  <thead>\n",
       "    <tr style=\"text-align: right;\">\n",
       "      <th></th>\n",
       "      <th>date</th>\n",
       "      <th>date_block_num</th>\n",
       "      <th>shop_id</th>\n",
       "      <th>item_id</th>\n",
       "      <th>item_price</th>\n",
       "      <th>item_cnt_day</th>\n",
       "    </tr>\n",
       "  </thead>\n",
       "  <tbody>\n",
       "    <tr>\n",
       "      <th>76962</th>\n",
       "      <td>05.01.2013</td>\n",
       "      <td>0</td>\n",
       "      <td>54</td>\n",
       "      <td>20130</td>\n",
       "      <td>149.0</td>\n",
       "      <td>1.0</td>\n",
       "    </tr>\n",
       "    <tr>\n",
       "      <th>1435367</th>\n",
       "      <td>23.02.2014</td>\n",
       "      <td>13</td>\n",
       "      <td>50</td>\n",
       "      <td>3423</td>\n",
       "      <td>999.0</td>\n",
       "      <td>1.0</td>\n",
       "    </tr>\n",
       "    <tr>\n",
       "      <th>1496766</th>\n",
       "      <td>23.03.2014</td>\n",
       "      <td>14</td>\n",
       "      <td>21</td>\n",
       "      <td>3423</td>\n",
       "      <td>999.0</td>\n",
       "      <td>1.0</td>\n",
       "    </tr>\n",
       "    <tr>\n",
       "      <th>1671873</th>\n",
       "      <td>01.05.2014</td>\n",
       "      <td>16</td>\n",
       "      <td>50</td>\n",
       "      <td>3423</td>\n",
       "      <td>999.0</td>\n",
       "      <td>1.0</td>\n",
       "    </tr>\n",
       "    <tr>\n",
       "      <th>1866340</th>\n",
       "      <td>12.07.2014</td>\n",
       "      <td>18</td>\n",
       "      <td>25</td>\n",
       "      <td>3423</td>\n",
       "      <td>999.0</td>\n",
       "      <td>1.0</td>\n",
       "    </tr>\n",
       "    <tr>\n",
       "      <th>2198566</th>\n",
       "      <td>31.12.2014</td>\n",
       "      <td>23</td>\n",
       "      <td>42</td>\n",
       "      <td>21619</td>\n",
       "      <td>499.0</td>\n",
       "      <td>1.0</td>\n",
       "    </tr>\n",
       "  </tbody>\n",
       "</table>\n",
       "</div>"
      ],
      "text/plain": [
       "               date  date_block_num  shop_id  item_id  item_price  \\\n",
       "76962    05.01.2013               0       54    20130       149.0   \n",
       "1435367  23.02.2014              13       50     3423       999.0   \n",
       "1496766  23.03.2014              14       21     3423       999.0   \n",
       "1671873  01.05.2014              16       50     3423       999.0   \n",
       "1866340  12.07.2014              18       25     3423       999.0   \n",
       "2198566  31.12.2014              23       42    21619       499.0   \n",
       "\n",
       "         item_cnt_day  \n",
       "76962             1.0  \n",
       "1435367           1.0  \n",
       "1496766           1.0  \n",
       "1671873           1.0  \n",
       "1866340           1.0  \n",
       "2198566           1.0  "
      ]
     },
     "execution_count": 11,
     "metadata": {},
     "output_type": "execute_result"
    }
   ],
   "source": [
    "train[train.duplicated() == True]"
   ]
  },
  {
   "cell_type": "code",
   "execution_count": 12,
   "metadata": {},
   "outputs": [],
   "source": [
    "# 중복 제거\n",
    "train.drop_duplicates(inplace=True)"
   ]
  },
  {
   "cell_type": "code",
   "execution_count": 13,
   "metadata": {},
   "outputs": [
    {
     "data": {
      "text/plain": [
       "0"
      ]
     },
     "execution_count": 13,
     "metadata": {},
     "output_type": "execute_result"
    }
   ],
   "source": [
    "# 중복 재확인\n",
    "sum(train.duplicated())"
   ]
  },
  {
   "cell_type": "code",
   "execution_count": 14,
   "metadata": {
    "scrolled": true
   },
   "outputs": [
    {
     "name": "stdout",
     "output_type": "stream",
     "text": [
      "test only items: 363\n"
     ]
    }
   ],
   "source": [
    "#테스트에만 있는 상품\n",
    "test_only = set(test['item_id'].unique()) - set(train['item_id'].unique())\n",
    "print('test only items:', len(test_only))"
   ]
  },
  {
   "cell_type": "code",
   "execution_count": 15,
   "metadata": {},
   "outputs": [
    {
     "name": "stdout",
     "output_type": "stream",
     "text": [
      "train: (1224434, 6)\n"
     ]
    }
   ],
   "source": [
    "#테스트 데이터에 없는 샵 및 아이템 드롭 \n",
    "test_shops = test.shop_id.unique()\n",
    "test_items = test.item_id.unique()\n",
    "train = train[train.shop_id.isin(test_shops)]\n",
    "train = train[train.item_id.isin(test_items)]\n",
    "\n",
    "print('train:', train.shape)"
   ]
  },
  {
   "cell_type": "code",
   "execution_count": 16,
   "metadata": {},
   "outputs": [
    {
     "data": {
      "text/plain": [
       "date              0\n",
       "date_block_num    0\n",
       "shop_id           0\n",
       "item_id           0\n",
       "item_price        0\n",
       "item_cnt_day      0\n",
       "dtype: int64"
      ]
     },
     "execution_count": 16,
     "metadata": {},
     "output_type": "execute_result"
    }
   ],
   "source": [
    "#결측치\n",
    "train.isnull().sum()"
   ]
  },
  {
   "cell_type": "code",
   "execution_count": 17,
   "metadata": {},
   "outputs": [
    {
     "data": {
      "text/plain": [
       "ID         0\n",
       "shop_id    0\n",
       "item_id    0\n",
       "dtype: int64"
      ]
     },
     "execution_count": 17,
     "metadata": {},
     "output_type": "execute_result"
    }
   ],
   "source": [
    "test.isnull().sum()"
   ]
  },
  {
   "cell_type": "code",
   "execution_count": 18,
   "metadata": {},
   "outputs": [
    {
     "data": {
      "image/png": "[encoded data removed]",
      "text/plain": [
       "<Figure size 720x216 with 1 Axes>"
      ]
     },
     "metadata": {
      "needs_background": "light"
     },
     "output_type": "display_data"
    },
    {
     "data": {
      "image/png": "[encoded data removed]",
      "text/plain": [
       "<Figure size 720x216 with 1 Axes>"
      ]
     },
     "metadata": {
      "needs_background": "light"
     },
     "output_type": "display_data"
    }
   ],
   "source": [
    "#이상치 제거\n",
    "plt.figure(figsize=(10,3))\n",
    "sns.boxplot(x='item_cnt_day', data=train)\n",
    "\n",
    "plt.figure(figsize=(10,3))\n",
    "sns.boxplot(x='item_price', data=train);"
   ]
  },
  {
   "cell_type": "code",
   "execution_count": 19,
   "metadata": {},
   "outputs": [],
   "source": [
    "train = train[train.item_cnt_day < 500]\n",
    "train = train[train.item_price < 50000]"
   ]
  },
  {
   "cell_type": "code",
   "execution_count": 20,
   "metadata": {},
   "outputs": [
    {
     "data": {
      "image/png": "[encoded data removed]",
      "text/plain": [
       "<Figure size 720x216 with 1 Axes>"
      ]
     },
     "metadata": {
      "needs_background": "light"
     },
     "output_type": "display_data"
    },
    {
     "data": {
      "image/png": "[encoded data removed]",
      "text/plain": [
       "<Figure size 720x216 with 1 Axes>"
      ]
     },
     "metadata": {
      "needs_background": "light"
     },
     "output_type": "display_data"
    }
   ],
   "source": [
    "plt.figure(figsize=(10,3))\n",
    "sns.boxplot(x='item_cnt_day', data=train)\n",
    "\n",
    "plt.figure(figsize=(10,3))\n",
    "sns.boxplot(x='item_price', data=train);"
   ]
  },
  {
   "cell_type": "code",
   "execution_count": 21,
   "metadata": {},
   "outputs": [],
   "source": [
    "train = train[train.item_cnt_day < 300]\n",
    "train = train[train.item_price < 40000]"
   ]
  },
  {
   "cell_type": "code",
   "execution_count": 22,
   "metadata": {
    "scrolled": false
   },
   "outputs": [
    {
     "data": {
      "image/png": "[encoded data removed]",
      "text/plain": [
       "<Figure size 720x216 with 1 Axes>"
      ]
     },
     "metadata": {
      "needs_background": "light"
     },
     "output_type": "display_data"
    },
    {
     "data": {
      "image/png": "[encoded data removed]",
      "text/plain": [
       "<Figure size 720x216 with 1 Axes>"
      ]
     },
     "metadata": {
      "needs_background": "light"
     },
     "output_type": "display_data"
    }
   ],
   "source": [
    "plt.figure(figsize=(10,3))\n",
    "sns.boxplot(x='item_cnt_day', data=train)\n",
    "\n",
    "plt.figure(figsize=(10,3))\n",
    "sns.boxplot(x='item_price', data=train);"
   ]
  },
  {
   "cell_type": "code",
   "execution_count": 23,
   "metadata": {},
   "outputs": [],
   "source": [
    "#가격 < 0 -> 중앙값으로 채우기\n",
    "median = train[(train.shop_id==32)&(train.item_id==2973)&(train.date_block_num==4)&(train.item_price>0)].item_price.median()\n",
    "train.loc[train.item_price<0, 'item_price'] = median"
   ]
  },
  {
   "cell_type": "code",
   "execution_count": 24,
   "metadata": {},
   "outputs": [
    {
     "data": {
      "text/plain": [
       "<AxesSubplot:xlabel='item_cnt_day'>"
      ]
     },
     "execution_count": 24,
     "metadata": {},
     "output_type": "execute_result"
    },
    {
     "data": {
      "image/png": "[encoded data removed]",
      "text/plain": [
       "<Figure size 720x216 with 1 Axes>"
      ]
     },
     "metadata": {
      "needs_background": "light"
     },
     "output_type": "display_data"
    }
   ],
   "source": [
    "#item_cnt_day 0보다 작은 값 제거\n",
    "train=train[train.item_cnt_day>0]\n",
    "plt.figure(figsize=(10,3))\n",
    "sns.boxplot(x='item_cnt_day',data=train)"
   ]
  },
  {
   "cell_type": "code",
   "execution_count": 25,
   "metadata": {
    "scrolled": false
   },
   "outputs": [
    {
     "data": {
      "text/html": [
       "<div>\n",
       "<style scoped>\n",
       "    .dataframe tbody tr th:only-of-type {\n",
       "        vertical-align: middle;\n",
       "    }\n",
       "\n",
       "    .dataframe tbody tr th {\n",
       "        vertical-align: top;\n",
       "    }\n",
       "\n",
       "    .dataframe thead th {\n",
       "        text-align: right;\n",
       "    }\n",
       "</style>\n",
       "<table border=\"1\" class=\"dataframe\">\n",
       "  <thead>\n",
       "    <tr style=\"text-align: right;\">\n",
       "      <th></th>\n",
       "      <th>date_block_num</th>\n",
       "      <th>shop_id</th>\n",
       "      <th>item_id</th>\n",
       "      <th>item_price</th>\n",
       "      <th>item_cnt_day</th>\n",
       "    </tr>\n",
       "  </thead>\n",
       "  <tbody>\n",
       "    <tr>\n",
       "      <th>count</th>\n",
       "      <td>1.221474e+06</td>\n",
       "      <td>1.221474e+06</td>\n",
       "      <td>1.221474e+06</td>\n",
       "      <td>1.221474e+06</td>\n",
       "      <td>1.221474e+06</td>\n",
       "    </tr>\n",
       "    <tr>\n",
       "      <th>mean</th>\n",
       "      <td>1.935384e+01</td>\n",
       "      <td>3.215242e+01</td>\n",
       "      <td>9.618610e+03</td>\n",
       "      <td>1.028921e+03</td>\n",
       "      <td>1.321127e+00</td>\n",
       "    </tr>\n",
       "    <tr>\n",
       "      <th>std</th>\n",
       "      <td>9.110795e+00</td>\n",
       "      <td>1.646377e+01</td>\n",
       "      <td>6.300608e+03</td>\n",
       "      <td>1.821104e+03</td>\n",
       "      <td>2.177922e+00</td>\n",
       "    </tr>\n",
       "    <tr>\n",
       "      <th>min</th>\n",
       "      <td>0.000000e+00</td>\n",
       "      <td>2.000000e+00</td>\n",
       "      <td>3.000000e+01</td>\n",
       "      <td>5.000000e-01</td>\n",
       "      <td>1.000000e+00</td>\n",
       "    </tr>\n",
       "    <tr>\n",
       "      <th>25%</th>\n",
       "      <td>1.200000e+01</td>\n",
       "      <td>1.900000e+01</td>\n",
       "      <td>4.181000e+03</td>\n",
       "      <td>2.990000e+02</td>\n",
       "      <td>1.000000e+00</td>\n",
       "    </tr>\n",
       "    <tr>\n",
       "      <th>50%</th>\n",
       "      <td>2.100000e+01</td>\n",
       "      <td>3.100000e+01</td>\n",
       "      <td>7.856000e+03</td>\n",
       "      <td>5.490000e+02</td>\n",
       "      <td>1.000000e+00</td>\n",
       "    </tr>\n",
       "    <tr>\n",
       "      <th>75%</th>\n",
       "      <td>2.700000e+01</td>\n",
       "      <td>4.600000e+01</td>\n",
       "      <td>1.523700e+04</td>\n",
       "      <td>1.199000e+03</td>\n",
       "      <td>1.000000e+00</td>\n",
       "    </tr>\n",
       "    <tr>\n",
       "      <th>max</th>\n",
       "      <td>3.300000e+01</td>\n",
       "      <td>5.900000e+01</td>\n",
       "      <td>2.216700e+04</td>\n",
       "      <td>3.799100e+04</td>\n",
       "      <td>2.990000e+02</td>\n",
       "    </tr>\n",
       "  </tbody>\n",
       "</table>\n",
       "</div>"
      ],
      "text/plain": [
       "       date_block_num       shop_id       item_id    item_price  item_cnt_day\n",
       "count    1.221474e+06  1.221474e+06  1.221474e+06  1.221474e+06  1.221474e+06\n",
       "mean     1.935384e+01  3.215242e+01  9.618610e+03  1.028921e+03  1.321127e+00\n",
       "std      9.110795e+00  1.646377e+01  6.300608e+03  1.821104e+03  2.177922e+00\n",
       "min      0.000000e+00  2.000000e+00  3.000000e+01  5.000000e-01  1.000000e+00\n",
       "25%      1.200000e+01  1.900000e+01  4.181000e+03  2.990000e+02  1.000000e+00\n",
       "50%      2.100000e+01  3.100000e+01  7.856000e+03  5.490000e+02  1.000000e+00\n",
       "75%      2.700000e+01  4.600000e+01  1.523700e+04  1.199000e+03  1.000000e+00\n",
       "max      3.300000e+01  5.900000e+01  2.216700e+04  3.799100e+04  2.990000e+02"
      ]
     },
     "execution_count": 25,
     "metadata": {},
     "output_type": "execute_result"
    }
   ],
   "source": [
    "train.describe()"
   ]
  },
  {
   "cell_type": "markdown",
   "metadata": {},
   "source": [
    "## 시각화"
   ]
  },
  {
   "cell_type": "code",
   "execution_count": 26,
   "metadata": {},
   "outputs": [
    {
     "name": "stderr",
     "output_type": "stream",
     "text": [
      "C:\\Users\\janyq\\anaconda3\\lib\\site-packages\\seaborn\\distributions.py:2551: FutureWarning: `distplot` is a deprecated function and will be removed in a future version. Please adapt your code to use either `displot` (a figure-level function with similar flexibility) or `histplot` (an axes-level function for histograms).\n",
      "  warnings.warn(msg, FutureWarning)\n"
     ]
    },
    {
     "data": {
      "image/png": "[encoded data removed]",
      "text/plain": [
       "<Figure size 936x504 with 1 Axes>"
      ]
     },
     "metadata": {
      "needs_background": "light"
     },
     "output_type": "display_data"
    }
   ],
   "source": [
    "plt.rcParams['figure.figsize'] = (13, 7)\n",
    "sns.distplot(train['item_price'], color = 'red')\n",
    "plt.title('Distribution of the price of Items', fontsize = 30)\n",
    "plt.xlabel('Range of price of items', fontsize = 15)\n",
    "plt.ylabel('Distrbution of prices over items', fontsize = 15)\n",
    "plt.show()"
   ]
  },
  {
   "cell_type": "code",
   "execution_count": 27,
   "metadata": {},
   "outputs": [
    {
     "data": {
      "image/png": "[encoded data removed]",
      "text/plain": [
       "<Figure size 1296x720 with 1 Axes>"
      ]
     },
     "metadata": {
      "needs_background": "light"
     },
     "output_type": "display_data"
    }
   ],
   "source": [
    "plt.figure(figsize = (18,10))\n",
    "plt.title('Items Sold Per Month', fontsize=22)\n",
    "ax = sns.barplot(x='date_block_num', y=\"item_id\", data=train, estimator=np.sum)\n",
    "ax = ax.set(xlabel='Date Blocks', ylabel='Item ID')\n",
    "plt.xticks(rotation=45)\n",
    "plt.show()"
   ]
  },
  {
   "cell_type": "code",
   "execution_count": 28,
   "metadata": {},
   "outputs": [
    {
     "data": {
      "image/png": "[encoded data removed]",
      "text/plain": [
       "<Figure size 1296x720 with 1 Axes>"
      ]
     },
     "metadata": {
      "needs_background": "light"
     },
     "output_type": "display_data"
    }
   ],
   "source": [
    "plt.figure(figsize = (18,10))\n",
    "plt.title('Items Sold Shop ID')\n",
    "ax = sns.barplot(x='shop_id', y=\"item_id\", data=train, estimator=np.mean)\n",
    "ax = ax.set(xlabel='Shop Id', ylabel='Item ID')\n",
    "plt.xticks(rotation=45)\n",
    "plt.show() "
   ]
  },
  {
   "cell_type": "code",
   "execution_count": 29,
   "metadata": {},
   "outputs": [
    {
     "data": {
      "text/html": [
       "<div>\n",
       "<style scoped>\n",
       "    .dataframe tbody tr th:only-of-type {\n",
       "        vertical-align: middle;\n",
       "    }\n",
       "\n",
       "    .dataframe tbody tr th {\n",
       "        vertical-align: top;\n",
       "    }\n",
       "\n",
       "    .dataframe thead th {\n",
       "        text-align: right;\n",
       "    }\n",
       "</style>\n",
       "<table border=\"1\" class=\"dataframe\">\n",
       "  <thead>\n",
       "    <tr style=\"text-align: right;\">\n",
       "      <th></th>\n",
       "      <th>item_category_name</th>\n",
       "      <th>item_category_id</th>\n",
       "    </tr>\n",
       "  </thead>\n",
       "  <tbody>\n",
       "    <tr>\n",
       "      <th>0</th>\n",
       "      <td>PC - Гарнитуры/Наушники</td>\n",
       "      <td>0</td>\n",
       "    </tr>\n",
       "    <tr>\n",
       "      <th>1</th>\n",
       "      <td>Аксессуары - PS2</td>\n",
       "      <td>1</td>\n",
       "    </tr>\n",
       "    <tr>\n",
       "      <th>2</th>\n",
       "      <td>Аксессуары - PS3</td>\n",
       "      <td>2</td>\n",
       "    </tr>\n",
       "    <tr>\n",
       "      <th>3</th>\n",
       "      <td>Аксессуары - PS4</td>\n",
       "      <td>3</td>\n",
       "    </tr>\n",
       "    <tr>\n",
       "      <th>4</th>\n",
       "      <td>Аксессуары - PSP</td>\n",
       "      <td>4</td>\n",
       "    </tr>\n",
       "  </tbody>\n",
       "</table>\n",
       "</div>"
      ],
      "text/plain": [
       "        item_category_name  item_category_id\n",
       "0  PC - Гарнитуры/Наушники                 0\n",
       "1         Аксессуары - PS2                 1\n",
       "2         Аксессуары - PS3                 2\n",
       "3         Аксессуары - PS4                 3\n",
       "4         Аксессуары - PSP                 4"
      ]
     },
     "execution_count": 29,
     "metadata": {},
     "output_type": "execute_result"
    }
   ],
   "source": [
    "cats.head()"
   ]
  },
  {
   "cell_type": "code",
   "execution_count": 30,
   "metadata": {},
   "outputs": [
    {
     "data": {
      "text/html": [
       "<div>\n",
       "<style scoped>\n",
       "    .dataframe tbody tr th:only-of-type {\n",
       "        vertical-align: middle;\n",
       "    }\n",
       "\n",
       "    .dataframe tbody tr th {\n",
       "        vertical-align: top;\n",
       "    }\n",
       "\n",
       "    .dataframe thead th {\n",
       "        text-align: right;\n",
       "    }\n",
       "</style>\n",
       "<table border=\"1\" class=\"dataframe\">\n",
       "  <thead>\n",
       "    <tr style=\"text-align: right;\">\n",
       "      <th></th>\n",
       "      <th>item_category_id</th>\n",
       "      <th>type</th>\n",
       "      <th>sub_type</th>\n",
       "    </tr>\n",
       "  </thead>\n",
       "  <tbody>\n",
       "    <tr>\n",
       "      <th>0</th>\n",
       "      <td>0</td>\n",
       "      <td>PC</td>\n",
       "      <td>Гарнитуры/Наушники</td>\n",
       "    </tr>\n",
       "    <tr>\n",
       "      <th>1</th>\n",
       "      <td>1</td>\n",
       "      <td>Аксессуары</td>\n",
       "      <td>PS2</td>\n",
       "    </tr>\n",
       "    <tr>\n",
       "      <th>2</th>\n",
       "      <td>2</td>\n",
       "      <td>Аксессуары</td>\n",
       "      <td>PS3</td>\n",
       "    </tr>\n",
       "    <tr>\n",
       "      <th>3</th>\n",
       "      <td>3</td>\n",
       "      <td>Аксессуары</td>\n",
       "      <td>PS4</td>\n",
       "    </tr>\n",
       "    <tr>\n",
       "      <th>4</th>\n",
       "      <td>4</td>\n",
       "      <td>Аксессуары</td>\n",
       "      <td>PSP</td>\n",
       "    </tr>\n",
       "  </tbody>\n",
       "</table>\n",
       "</div>"
      ],
      "text/plain": [
       "   item_category_id        type            sub_type\n",
       "0                 0          PC  Гарнитуры/Наушники\n",
       "1                 1  Аксессуары                 PS2\n",
       "2                 2  Аксессуары                 PS3\n",
       "3                 3  Аксессуары                 PS4\n",
       "4                 4  Аксессуары                 PSP"
      ]
     },
     "execution_count": 30,
     "metadata": {},
     "output_type": "execute_result"
    }
   ],
   "source": [
    "cats['category']=cats['item_category_name'].str.split('-')\n",
    "cats['type']=cats['category'].apply(lambda x: x[0].strip())\n",
    "cats['sub_type'] = cats['category'].apply(lambda x: x[1].strip() if len(x) > 1 else x[0].strip())\n",
    "cats.drop(['item_category_name','category'], inplace=True, axis=1)\n",
    "cats.head()"
   ]
  },
  {
   "cell_type": "code",
   "execution_count": 31,
   "metadata": {},
   "outputs": [
    {
     "data": {
      "image/png": "[encoded data removed]",
      "text/plain": [
       "<Figure size 1296x720 with 1 Axes>"
      ]
     },
     "metadata": {
      "needs_background": "light"
     },
     "output_type": "display_data"
    }
   ],
   "source": [
    "plt.figure(figsize = (18,10))\n",
    "plt.title('# of types of items category wise', fontsize=24)\n",
    "ax = sns.barplot(x='item_category_id', y='type', data=cats, estimator=np.sum)\n",
    "ax = ax.set(xlabel='Category ID', ylabel='Type')\n",
    "plt.xticks(rotation=45)\n",
    "\n",
    "plt.show() "
   ]
  },
  {
   "cell_type": "markdown",
   "metadata": {},
   "source": [
    "## Feature 생성"
   ]
  },
  {
   "cell_type": "code",
   "execution_count": 32,
   "metadata": {},
   "outputs": [
    {
     "data": {
      "text/plain": [
       "'02.01.2013'"
      ]
     },
     "execution_count": 32,
     "metadata": {},
     "output_type": "execute_result"
    }
   ],
   "source": [
    "train[\"date\"][0]"
   ]
  },
  {
   "cell_type": "code",
   "execution_count": 33,
   "metadata": {
    "scrolled": true
   },
   "outputs": [
    {
     "data": {
      "text/plain": [
       "(1221474, 6)"
      ]
     },
     "execution_count": 33,
     "metadata": {},
     "output_type": "execute_result"
    }
   ],
   "source": [
    "train.shape"
   ]
  },
  {
   "cell_type": "code",
   "execution_count": 34,
   "metadata": {},
   "outputs": [
    {
     "data": {
      "text/plain": [
       "'02'"
      ]
     },
     "execution_count": 34,
     "metadata": {},
     "output_type": "execute_result"
    }
   ],
   "source": [
    "train[\"date\"][0][:2]"
   ]
  },
  {
   "cell_type": "code",
   "execution_count": 35,
   "metadata": {},
   "outputs": [
    {
     "data": {
      "text/plain": [
       "0          02\n",
       "10         03\n",
       "11         05\n",
       "12         07\n",
       "13         08\n",
       "           ..\n",
       "2935844    10\n",
       "2935845    09\n",
       "2935846    14\n",
       "2935847    22\n",
       "2935848    03\n",
       "Name: date, Length: 1221474, dtype: object"
      ]
     },
     "execution_count": 35,
     "metadata": {},
     "output_type": "execute_result"
    }
   ],
   "source": [
    "train[\"date\"].apply(lambda x: x[:2])"
   ]
  },
  {
   "cell_type": "code",
   "execution_count": 36,
   "metadata": {},
   "outputs": [
    {
     "data": {
      "text/html": [
       "<div>\n",
       "<style scoped>\n",
       "    .dataframe tbody tr th:only-of-type {\n",
       "        vertical-align: middle;\n",
       "    }\n",
       "\n",
       "    .dataframe tbody tr th {\n",
       "        vertical-align: top;\n",
       "    }\n",
       "\n",
       "    .dataframe thead th {\n",
       "        text-align: right;\n",
       "    }\n",
       "</style>\n",
       "<table border=\"1\" class=\"dataframe\">\n",
       "  <thead>\n",
       "    <tr style=\"text-align: right;\">\n",
       "      <th></th>\n",
       "      <th>date</th>\n",
       "      <th>date_block_num</th>\n",
       "      <th>shop_id</th>\n",
       "      <th>item_id</th>\n",
       "      <th>item_price</th>\n",
       "      <th>item_cnt_day</th>\n",
       "      <th>day</th>\n",
       "    </tr>\n",
       "  </thead>\n",
       "  <tbody>\n",
       "    <tr>\n",
       "      <th>0</th>\n",
       "      <td>02.01.2013</td>\n",
       "      <td>0</td>\n",
       "      <td>59</td>\n",
       "      <td>22154</td>\n",
       "      <td>999.0</td>\n",
       "      <td>1.0</td>\n",
       "      <td>2</td>\n",
       "    </tr>\n",
       "    <tr>\n",
       "      <th>10</th>\n",
       "      <td>03.01.2013</td>\n",
       "      <td>0</td>\n",
       "      <td>25</td>\n",
       "      <td>2574</td>\n",
       "      <td>399.0</td>\n",
       "      <td>2.0</td>\n",
       "      <td>3</td>\n",
       "    </tr>\n",
       "    <tr>\n",
       "      <th>11</th>\n",
       "      <td>05.01.2013</td>\n",
       "      <td>0</td>\n",
       "      <td>25</td>\n",
       "      <td>2574</td>\n",
       "      <td>399.0</td>\n",
       "      <td>1.0</td>\n",
       "      <td>5</td>\n",
       "    </tr>\n",
       "    <tr>\n",
       "      <th>12</th>\n",
       "      <td>07.01.2013</td>\n",
       "      <td>0</td>\n",
       "      <td>25</td>\n",
       "      <td>2574</td>\n",
       "      <td>399.0</td>\n",
       "      <td>1.0</td>\n",
       "      <td>7</td>\n",
       "    </tr>\n",
       "    <tr>\n",
       "      <th>13</th>\n",
       "      <td>08.01.2013</td>\n",
       "      <td>0</td>\n",
       "      <td>25</td>\n",
       "      <td>2574</td>\n",
       "      <td>399.0</td>\n",
       "      <td>2.0</td>\n",
       "      <td>8</td>\n",
       "    </tr>\n",
       "  </tbody>\n",
       "</table>\n",
       "</div>"
      ],
      "text/plain": [
       "          date  date_block_num  shop_id  item_id  item_price  item_cnt_day  \\\n",
       "0   02.01.2013               0       59    22154       999.0           1.0   \n",
       "10  03.01.2013               0       25     2574       399.0           2.0   \n",
       "11  05.01.2013               0       25     2574       399.0           1.0   \n",
       "12  07.01.2013               0       25     2574       399.0           1.0   \n",
       "13  08.01.2013               0       25     2574       399.0           2.0   \n",
       "\n",
       "    day  \n",
       "0     2  \n",
       "10    3  \n",
       "11    5  \n",
       "12    7  \n",
       "13    8  "
      ]
     },
     "execution_count": 36,
     "metadata": {},
     "output_type": "execute_result"
    }
   ],
   "source": [
    "train[\"day\"] = train[\"date\"].apply(lambda x: int(x[:2]))\n",
    "train.head()"
   ]
  },
  {
   "cell_type": "code",
   "execution_count": 37,
   "metadata": {},
   "outputs": [
    {
     "data": {
      "text/plain": [
       "count    1.221474e+06\n",
       "mean     1.612353e+01\n",
       "std      8.912680e+00\n",
       "min      1.000000e+00\n",
       "25%      8.000000e+00\n",
       "50%      1.600000e+01\n",
       "75%      2.400000e+01\n",
       "max      3.100000e+01\n",
       "Name: day, dtype: float64"
      ]
     },
     "execution_count": 37,
     "metadata": {},
     "output_type": "execute_result"
    }
   ],
   "source": [
    "train[\"day\"].describe()"
   ]
  },
  {
   "cell_type": "code",
   "execution_count": 38,
   "metadata": {},
   "outputs": [
    {
     "data": {
      "text/plain": [
       "'01'"
      ]
     },
     "execution_count": 38,
     "metadata": {},
     "output_type": "execute_result"
    }
   ],
   "source": [
    "train[\"date\"][0][3:5]"
   ]
  },
  {
   "cell_type": "code",
   "execution_count": 39,
   "metadata": {},
   "outputs": [
    {
     "data": {
      "text/plain": [
       "count    1.221474e+06\n",
       "mean     6.629442e+00\n",
       "std      3.469601e+00\n",
       "min      1.000000e+00\n",
       "25%      4.000000e+00\n",
       "50%      7.000000e+00\n",
       "75%      1.000000e+01\n",
       "max      1.200000e+01\n",
       "Name: month, dtype: float64"
      ]
     },
     "execution_count": 39,
     "metadata": {},
     "output_type": "execute_result"
    }
   ],
   "source": [
    "train[\"month\"] = train[\"date\"].apply(lambda x: int(x[3:5]))\n",
    "train[\"month\"].describe()"
   ]
  },
  {
   "cell_type": "code",
   "execution_count": 40,
   "metadata": {},
   "outputs": [
    {
     "data": {
      "text/plain": [
       "count    1.221474e+06\n",
       "mean     2.014144e+03\n",
       "std      7.685865e-01\n",
       "min      2.013000e+03\n",
       "25%      2.014000e+03\n",
       "50%      2.014000e+03\n",
       "75%      2.015000e+03\n",
       "max      2.015000e+03\n",
       "Name: year, dtype: float64"
      ]
     },
     "execution_count": 40,
     "metadata": {},
     "output_type": "execute_result"
    }
   ],
   "source": [
    "train[\"year\"] = train[\"date\"].apply(lambda x: int(x[6:]))\n",
    "train[\"year\"].describe()"
   ]
  },
  {
   "cell_type": "code",
   "execution_count": 41,
   "metadata": {
    "scrolled": false
   },
   "outputs": [
    {
     "data": {
      "text/html": [
       "<div>\n",
       "<style scoped>\n",
       "    .dataframe tbody tr th:only-of-type {\n",
       "        vertical-align: middle;\n",
       "    }\n",
       "\n",
       "    .dataframe tbody tr th {\n",
       "        vertical-align: top;\n",
       "    }\n",
       "\n",
       "    .dataframe thead th {\n",
       "        text-align: right;\n",
       "    }\n",
       "</style>\n",
       "<table border=\"1\" class=\"dataframe\">\n",
       "  <thead>\n",
       "    <tr style=\"text-align: right;\">\n",
       "      <th></th>\n",
       "      <th>date_block_num</th>\n",
       "      <th>shop_id</th>\n",
       "      <th>item_id</th>\n",
       "      <th>item_price</th>\n",
       "      <th>item_cnt_day</th>\n",
       "      <th>day</th>\n",
       "      <th>month</th>\n",
       "      <th>year</th>\n",
       "    </tr>\n",
       "  </thead>\n",
       "  <tbody>\n",
       "    <tr>\n",
       "      <th>0</th>\n",
       "      <td>0</td>\n",
       "      <td>59</td>\n",
       "      <td>22154</td>\n",
       "      <td>999.0</td>\n",
       "      <td>1.0</td>\n",
       "      <td>2</td>\n",
       "      <td>1</td>\n",
       "      <td>2013</td>\n",
       "    </tr>\n",
       "    <tr>\n",
       "      <th>10</th>\n",
       "      <td>0</td>\n",
       "      <td>25</td>\n",
       "      <td>2574</td>\n",
       "      <td>399.0</td>\n",
       "      <td>2.0</td>\n",
       "      <td>3</td>\n",
       "      <td>1</td>\n",
       "      <td>2013</td>\n",
       "    </tr>\n",
       "    <tr>\n",
       "      <th>11</th>\n",
       "      <td>0</td>\n",
       "      <td>25</td>\n",
       "      <td>2574</td>\n",
       "      <td>399.0</td>\n",
       "      <td>1.0</td>\n",
       "      <td>5</td>\n",
       "      <td>1</td>\n",
       "      <td>2013</td>\n",
       "    </tr>\n",
       "    <tr>\n",
       "      <th>12</th>\n",
       "      <td>0</td>\n",
       "      <td>25</td>\n",
       "      <td>2574</td>\n",
       "      <td>399.0</td>\n",
       "      <td>1.0</td>\n",
       "      <td>7</td>\n",
       "      <td>1</td>\n",
       "      <td>2013</td>\n",
       "    </tr>\n",
       "    <tr>\n",
       "      <th>13</th>\n",
       "      <td>0</td>\n",
       "      <td>25</td>\n",
       "      <td>2574</td>\n",
       "      <td>399.0</td>\n",
       "      <td>2.0</td>\n",
       "      <td>8</td>\n",
       "      <td>1</td>\n",
       "      <td>2013</td>\n",
       "    </tr>\n",
       "  </tbody>\n",
       "</table>\n",
       "</div>"
      ],
      "text/plain": [
       "    date_block_num  shop_id  item_id  item_price  item_cnt_day  day  month  \\\n",
       "0                0       59    22154       999.0           1.0    2      1   \n",
       "10               0       25     2574       399.0           2.0    3      1   \n",
       "11               0       25     2574       399.0           1.0    5      1   \n",
       "12               0       25     2574       399.0           1.0    7      1   \n",
       "13               0       25     2574       399.0           2.0    8      1   \n",
       "\n",
       "    year  \n",
       "0   2013  \n",
       "10  2013  \n",
       "11  2013  \n",
       "12  2013  \n",
       "13  2013  "
      ]
     },
     "execution_count": 41,
     "metadata": {},
     "output_type": "execute_result"
    }
   ],
   "source": [
    "train.drop(columns = \"date\", inplace = True)\n",
    "train.head()"
   ]
  },
  {
   "cell_type": "code",
   "execution_count": 42,
   "metadata": {},
   "outputs": [],
   "source": [
    "train.rename(columns={'item_cnt_day':'item_cnt_month'}, inplace=True)"
   ]
  },
  {
   "cell_type": "code",
   "execution_count": 43,
   "metadata": {},
   "outputs": [],
   "source": [
    "#item_cnt_month = train.groupby(['item_id','shop_id','month']).sum()['item_cnt_day'].reset_index()\n",
    "#item_cnt_month.rename(columns={'item_cnt_day':'item_cnt_month'}, inplace=True)\n",
    "#item_cnt_month"
   ]
  },
  {
   "cell_type": "code",
   "execution_count": 44,
   "metadata": {
    "scrolled": true
   },
   "outputs": [],
   "source": [
    "#train=pd.merge(train,item_cnt_month,how='left',on=['item_id','shop_id','month'])\n",
    "#del train['item_cnt_day']"
   ]
  },
  {
   "cell_type": "code",
   "execution_count": 45,
   "metadata": {},
   "outputs": [],
   "source": [
    "test[\"year\"] = 2015\n",
    "test[\"month\"] = 11\n",
    "test.head()\n",
    "del test['month']"
   ]
  },
  {
   "cell_type": "code",
   "execution_count": 46,
   "metadata": {
    "scrolled": true
   },
   "outputs": [
    {
     "data": {
      "text/html": [
       "<div>\n",
       "<style scoped>\n",
       "    .dataframe tbody tr th:only-of-type {\n",
       "        vertical-align: middle;\n",
       "    }\n",
       "\n",
       "    .dataframe tbody tr th {\n",
       "        vertical-align: top;\n",
       "    }\n",
       "\n",
       "    .dataframe thead th {\n",
       "        text-align: right;\n",
       "    }\n",
       "</style>\n",
       "<table border=\"1\" class=\"dataframe\">\n",
       "  <thead>\n",
       "    <tr style=\"text-align: right;\">\n",
       "      <th></th>\n",
       "      <th>ID</th>\n",
       "      <th>shop_id</th>\n",
       "      <th>item_id</th>\n",
       "      <th>year</th>\n",
       "      <th>date_block_num</th>\n",
       "    </tr>\n",
       "  </thead>\n",
       "  <tbody>\n",
       "    <tr>\n",
       "      <th>0</th>\n",
       "      <td>0</td>\n",
       "      <td>5</td>\n",
       "      <td>5037</td>\n",
       "      <td>2015</td>\n",
       "      <td>34</td>\n",
       "    </tr>\n",
       "    <tr>\n",
       "      <th>1</th>\n",
       "      <td>1</td>\n",
       "      <td>5</td>\n",
       "      <td>5320</td>\n",
       "      <td>2015</td>\n",
       "      <td>34</td>\n",
       "    </tr>\n",
       "    <tr>\n",
       "      <th>2</th>\n",
       "      <td>2</td>\n",
       "      <td>5</td>\n",
       "      <td>5233</td>\n",
       "      <td>2015</td>\n",
       "      <td>34</td>\n",
       "    </tr>\n",
       "    <tr>\n",
       "      <th>3</th>\n",
       "      <td>3</td>\n",
       "      <td>5</td>\n",
       "      <td>5232</td>\n",
       "      <td>2015</td>\n",
       "      <td>34</td>\n",
       "    </tr>\n",
       "    <tr>\n",
       "      <th>4</th>\n",
       "      <td>4</td>\n",
       "      <td>5</td>\n",
       "      <td>5268</td>\n",
       "      <td>2015</td>\n",
       "      <td>34</td>\n",
       "    </tr>\n",
       "  </tbody>\n",
       "</table>\n",
       "</div>"
      ],
      "text/plain": [
       "   ID  shop_id  item_id  year  date_block_num\n",
       "0   0        5     5037  2015              34\n",
       "1   1        5     5320  2015              34\n",
       "2   2        5     5233  2015              34\n",
       "3   3        5     5232  2015              34\n",
       "4   4        5     5268  2015              34"
      ]
     },
     "execution_count": 46,
     "metadata": {},
     "output_type": "execute_result"
    }
   ],
   "source": [
    "test[\"date_block_num\"] = 34\n",
    "test.head()"
   ]
  },
  {
   "cell_type": "code",
   "execution_count": 47,
   "metadata": {},
   "outputs": [],
   "source": [
    "#test['date_block_num'] = test['date_block_num'].astype(np.int8)\n",
    "#test['shop_id'] = test['shop_id'].astype(np.int8)\n",
    "#test['item_id'] = test['item_id'].astype(np.int16)"
   ]
  },
  {
   "cell_type": "code",
   "execution_count": 48,
   "metadata": {
    "scrolled": false
   },
   "outputs": [
    {
     "data": {
      "text/html": [
       "<div>\n",
       "<style scoped>\n",
       "    .dataframe tbody tr th:only-of-type {\n",
       "        vertical-align: middle;\n",
       "    }\n",
       "\n",
       "    .dataframe tbody tr th {\n",
       "        vertical-align: top;\n",
       "    }\n",
       "\n",
       "    .dataframe thead th {\n",
       "        text-align: right;\n",
       "    }\n",
       "</style>\n",
       "<table border=\"1\" class=\"dataframe\">\n",
       "  <thead>\n",
       "    <tr style=\"text-align: right;\">\n",
       "      <th></th>\n",
       "      <th>date_block_num</th>\n",
       "      <th>shop_id</th>\n",
       "      <th>item_id</th>\n",
       "      <th>item_price</th>\n",
       "      <th>item_cnt_month</th>\n",
       "      <th>day</th>\n",
       "      <th>month</th>\n",
       "      <th>year</th>\n",
       "    </tr>\n",
       "  </thead>\n",
       "  <tbody>\n",
       "    <tr>\n",
       "      <th>0</th>\n",
       "      <td>0</td>\n",
       "      <td>59</td>\n",
       "      <td>22154</td>\n",
       "      <td>999.0</td>\n",
       "      <td>1.0</td>\n",
       "      <td>2</td>\n",
       "      <td>1</td>\n",
       "      <td>2013</td>\n",
       "    </tr>\n",
       "    <tr>\n",
       "      <th>10</th>\n",
       "      <td>0</td>\n",
       "      <td>25</td>\n",
       "      <td>2574</td>\n",
       "      <td>399.0</td>\n",
       "      <td>2.0</td>\n",
       "      <td>3</td>\n",
       "      <td>1</td>\n",
       "      <td>2013</td>\n",
       "    </tr>\n",
       "    <tr>\n",
       "      <th>11</th>\n",
       "      <td>0</td>\n",
       "      <td>25</td>\n",
       "      <td>2574</td>\n",
       "      <td>399.0</td>\n",
       "      <td>1.0</td>\n",
       "      <td>5</td>\n",
       "      <td>1</td>\n",
       "      <td>2013</td>\n",
       "    </tr>\n",
       "    <tr>\n",
       "      <th>12</th>\n",
       "      <td>0</td>\n",
       "      <td>25</td>\n",
       "      <td>2574</td>\n",
       "      <td>399.0</td>\n",
       "      <td>1.0</td>\n",
       "      <td>7</td>\n",
       "      <td>1</td>\n",
       "      <td>2013</td>\n",
       "    </tr>\n",
       "    <tr>\n",
       "      <th>13</th>\n",
       "      <td>0</td>\n",
       "      <td>25</td>\n",
       "      <td>2574</td>\n",
       "      <td>399.0</td>\n",
       "      <td>2.0</td>\n",
       "      <td>8</td>\n",
       "      <td>1</td>\n",
       "      <td>2013</td>\n",
       "    </tr>\n",
       "    <tr>\n",
       "      <th>...</th>\n",
       "      <td>...</td>\n",
       "      <td>...</td>\n",
       "      <td>...</td>\n",
       "      <td>...</td>\n",
       "      <td>...</td>\n",
       "      <td>...</td>\n",
       "      <td>...</td>\n",
       "      <td>...</td>\n",
       "    </tr>\n",
       "    <tr>\n",
       "      <th>2935844</th>\n",
       "      <td>33</td>\n",
       "      <td>25</td>\n",
       "      <td>7409</td>\n",
       "      <td>299.0</td>\n",
       "      <td>1.0</td>\n",
       "      <td>10</td>\n",
       "      <td>10</td>\n",
       "      <td>2015</td>\n",
       "    </tr>\n",
       "    <tr>\n",
       "      <th>2935845</th>\n",
       "      <td>33</td>\n",
       "      <td>25</td>\n",
       "      <td>7460</td>\n",
       "      <td>299.0</td>\n",
       "      <td>1.0</td>\n",
       "      <td>9</td>\n",
       "      <td>10</td>\n",
       "      <td>2015</td>\n",
       "    </tr>\n",
       "    <tr>\n",
       "      <th>2935846</th>\n",
       "      <td>33</td>\n",
       "      <td>25</td>\n",
       "      <td>7459</td>\n",
       "      <td>349.0</td>\n",
       "      <td>1.0</td>\n",
       "      <td>14</td>\n",
       "      <td>10</td>\n",
       "      <td>2015</td>\n",
       "    </tr>\n",
       "    <tr>\n",
       "      <th>2935847</th>\n",
       "      <td>33</td>\n",
       "      <td>25</td>\n",
       "      <td>7440</td>\n",
       "      <td>299.0</td>\n",
       "      <td>1.0</td>\n",
       "      <td>22</td>\n",
       "      <td>10</td>\n",
       "      <td>2015</td>\n",
       "    </tr>\n",
       "    <tr>\n",
       "      <th>2935848</th>\n",
       "      <td>33</td>\n",
       "      <td>25</td>\n",
       "      <td>7460</td>\n",
       "      <td>299.0</td>\n",
       "      <td>1.0</td>\n",
       "      <td>3</td>\n",
       "      <td>10</td>\n",
       "      <td>2015</td>\n",
       "    </tr>\n",
       "  </tbody>\n",
       "</table>\n",
       "<p>1221474 rows × 8 columns</p>\n",
       "</div>"
      ],
      "text/plain": [
       "         date_block_num  shop_id  item_id  item_price  item_cnt_month  day  \\\n",
       "0                     0       59    22154       999.0             1.0    2   \n",
       "10                    0       25     2574       399.0             2.0    3   \n",
       "11                    0       25     2574       399.0             1.0    5   \n",
       "12                    0       25     2574       399.0             1.0    7   \n",
       "13                    0       25     2574       399.0             2.0    8   \n",
       "...                 ...      ...      ...         ...             ...  ...   \n",
       "2935844              33       25     7409       299.0             1.0   10   \n",
       "2935845              33       25     7460       299.0             1.0    9   \n",
       "2935846              33       25     7459       349.0             1.0   14   \n",
       "2935847              33       25     7440       299.0             1.0   22   \n",
       "2935848              33       25     7460       299.0             1.0    3   \n",
       "\n",
       "         month  year  \n",
       "0            1  2013  \n",
       "10           1  2013  \n",
       "11           1  2013  \n",
       "12           1  2013  \n",
       "13           1  2013  \n",
       "...        ...   ...  \n",
       "2935844     10  2015  \n",
       "2935845     10  2015  \n",
       "2935846     10  2015  \n",
       "2935847     10  2015  \n",
       "2935848     10  2015  \n",
       "\n",
       "[1221474 rows x 8 columns]"
      ]
     },
     "execution_count": 48,
     "metadata": {},
     "output_type": "execute_result"
    }
   ],
   "source": [
    "train"
   ]
  },
  {
   "cell_type": "code",
   "execution_count": 49,
   "metadata": {},
   "outputs": [
    {
     "data": {
      "text/html": [
       "<div>\n",
       "<style scoped>\n",
       "    .dataframe tbody tr th:only-of-type {\n",
       "        vertical-align: middle;\n",
       "    }\n",
       "\n",
       "    .dataframe tbody tr th {\n",
       "        vertical-align: top;\n",
       "    }\n",
       "\n",
       "    .dataframe thead th {\n",
       "        text-align: right;\n",
       "    }\n",
       "</style>\n",
       "<table border=\"1\" class=\"dataframe\">\n",
       "  <thead>\n",
       "    <tr style=\"text-align: right;\">\n",
       "      <th></th>\n",
       "      <th>ID</th>\n",
       "      <th>shop_id</th>\n",
       "      <th>item_id</th>\n",
       "      <th>year</th>\n",
       "      <th>date_block_num</th>\n",
       "    </tr>\n",
       "  </thead>\n",
       "  <tbody>\n",
       "    <tr>\n",
       "      <th>0</th>\n",
       "      <td>0</td>\n",
       "      <td>5</td>\n",
       "      <td>5037</td>\n",
       "      <td>2015</td>\n",
       "      <td>34</td>\n",
       "    </tr>\n",
       "    <tr>\n",
       "      <th>1</th>\n",
       "      <td>1</td>\n",
       "      <td>5</td>\n",
       "      <td>5320</td>\n",
       "      <td>2015</td>\n",
       "      <td>34</td>\n",
       "    </tr>\n",
       "    <tr>\n",
       "      <th>2</th>\n",
       "      <td>2</td>\n",
       "      <td>5</td>\n",
       "      <td>5233</td>\n",
       "      <td>2015</td>\n",
       "      <td>34</td>\n",
       "    </tr>\n",
       "    <tr>\n",
       "      <th>3</th>\n",
       "      <td>3</td>\n",
       "      <td>5</td>\n",
       "      <td>5232</td>\n",
       "      <td>2015</td>\n",
       "      <td>34</td>\n",
       "    </tr>\n",
       "    <tr>\n",
       "      <th>4</th>\n",
       "      <td>4</td>\n",
       "      <td>5</td>\n",
       "      <td>5268</td>\n",
       "      <td>2015</td>\n",
       "      <td>34</td>\n",
       "    </tr>\n",
       "  </tbody>\n",
       "</table>\n",
       "</div>"
      ],
      "text/plain": [
       "   ID  shop_id  item_id  year  date_block_num\n",
       "0   0        5     5037  2015              34\n",
       "1   1        5     5320  2015              34\n",
       "2   2        5     5233  2015              34\n",
       "3   3        5     5232  2015              34\n",
       "4   4        5     5268  2015              34"
      ]
     },
     "execution_count": 49,
     "metadata": {},
     "output_type": "execute_result"
    }
   ],
   "source": [
    "test.head()"
   ]
  },
  {
   "cell_type": "code",
   "execution_count": 50,
   "metadata": {
    "scrolled": false
   },
   "outputs": [
    {
     "data": {
      "text/html": [
       "<div>\n",
       "<style scoped>\n",
       "    .dataframe tbody tr th:only-of-type {\n",
       "        vertical-align: middle;\n",
       "    }\n",
       "\n",
       "    .dataframe tbody tr th {\n",
       "        vertical-align: top;\n",
       "    }\n",
       "\n",
       "    .dataframe thead th {\n",
       "        text-align: right;\n",
       "    }\n",
       "</style>\n",
       "<table border=\"1\" class=\"dataframe\">\n",
       "  <thead>\n",
       "    <tr style=\"text-align: right;\">\n",
       "      <th></th>\n",
       "      <th>date_block_num_x</th>\n",
       "      <th>shop_id</th>\n",
       "      <th>item_id</th>\n",
       "      <th>item_price</th>\n",
       "      <th>item_cnt_month</th>\n",
       "      <th>day</th>\n",
       "      <th>month</th>\n",
       "      <th>year_x</th>\n",
       "      <th>ID</th>\n",
       "      <th>year_y</th>\n",
       "      <th>date_block_num_y</th>\n",
       "    </tr>\n",
       "  </thead>\n",
       "  <tbody>\n",
       "    <tr>\n",
       "      <th>0</th>\n",
       "      <td>0</td>\n",
       "      <td>59</td>\n",
       "      <td>22154</td>\n",
       "      <td>999.0</td>\n",
       "      <td>1.0</td>\n",
       "      <td>2</td>\n",
       "      <td>1</td>\n",
       "      <td>2013</td>\n",
       "      <td>150983</td>\n",
       "      <td>2015</td>\n",
       "      <td>34</td>\n",
       "    </tr>\n",
       "    <tr>\n",
       "      <th>1</th>\n",
       "      <td>0</td>\n",
       "      <td>25</td>\n",
       "      <td>2574</td>\n",
       "      <td>399.0</td>\n",
       "      <td>2.0</td>\n",
       "      <td>3</td>\n",
       "      <td>1</td>\n",
       "      <td>2013</td>\n",
       "      <td>56520</td>\n",
       "      <td>2015</td>\n",
       "      <td>34</td>\n",
       "    </tr>\n",
       "    <tr>\n",
       "      <th>2</th>\n",
       "      <td>0</td>\n",
       "      <td>25</td>\n",
       "      <td>2574</td>\n",
       "      <td>399.0</td>\n",
       "      <td>1.0</td>\n",
       "      <td>5</td>\n",
       "      <td>1</td>\n",
       "      <td>2013</td>\n",
       "      <td>56520</td>\n",
       "      <td>2015</td>\n",
       "      <td>34</td>\n",
       "    </tr>\n",
       "    <tr>\n",
       "      <th>3</th>\n",
       "      <td>0</td>\n",
       "      <td>25</td>\n",
       "      <td>2574</td>\n",
       "      <td>399.0</td>\n",
       "      <td>1.0</td>\n",
       "      <td>7</td>\n",
       "      <td>1</td>\n",
       "      <td>2013</td>\n",
       "      <td>56520</td>\n",
       "      <td>2015</td>\n",
       "      <td>34</td>\n",
       "    </tr>\n",
       "    <tr>\n",
       "      <th>4</th>\n",
       "      <td>0</td>\n",
       "      <td>25</td>\n",
       "      <td>2574</td>\n",
       "      <td>399.0</td>\n",
       "      <td>2.0</td>\n",
       "      <td>8</td>\n",
       "      <td>1</td>\n",
       "      <td>2013</td>\n",
       "      <td>56520</td>\n",
       "      <td>2015</td>\n",
       "      <td>34</td>\n",
       "    </tr>\n",
       "    <tr>\n",
       "      <th>...</th>\n",
       "      <td>...</td>\n",
       "      <td>...</td>\n",
       "      <td>...</td>\n",
       "      <td>...</td>\n",
       "      <td>...</td>\n",
       "      <td>...</td>\n",
       "      <td>...</td>\n",
       "      <td>...</td>\n",
       "      <td>...</td>\n",
       "      <td>...</td>\n",
       "      <td>...</td>\n",
       "    </tr>\n",
       "    <tr>\n",
       "      <th>1221469</th>\n",
       "      <td>33</td>\n",
       "      <td>25</td>\n",
       "      <td>7409</td>\n",
       "      <td>299.0</td>\n",
       "      <td>1.0</td>\n",
       "      <td>10</td>\n",
       "      <td>10</td>\n",
       "      <td>2015</td>\n",
       "      <td>58431</td>\n",
       "      <td>2015</td>\n",
       "      <td>34</td>\n",
       "    </tr>\n",
       "    <tr>\n",
       "      <th>1221470</th>\n",
       "      <td>33</td>\n",
       "      <td>25</td>\n",
       "      <td>7460</td>\n",
       "      <td>299.0</td>\n",
       "      <td>1.0</td>\n",
       "      <td>9</td>\n",
       "      <td>10</td>\n",
       "      <td>2015</td>\n",
       "      <td>59331</td>\n",
       "      <td>2015</td>\n",
       "      <td>34</td>\n",
       "    </tr>\n",
       "    <tr>\n",
       "      <th>1221471</th>\n",
       "      <td>33</td>\n",
       "      <td>25</td>\n",
       "      <td>7459</td>\n",
       "      <td>349.0</td>\n",
       "      <td>1.0</td>\n",
       "      <td>14</td>\n",
       "      <td>10</td>\n",
       "      <td>2015</td>\n",
       "      <td>58430</td>\n",
       "      <td>2015</td>\n",
       "      <td>34</td>\n",
       "    </tr>\n",
       "    <tr>\n",
       "      <th>1221472</th>\n",
       "      <td>33</td>\n",
       "      <td>25</td>\n",
       "      <td>7440</td>\n",
       "      <td>299.0</td>\n",
       "      <td>1.0</td>\n",
       "      <td>22</td>\n",
       "      <td>10</td>\n",
       "      <td>2015</td>\n",
       "      <td>60342</td>\n",
       "      <td>2015</td>\n",
       "      <td>34</td>\n",
       "    </tr>\n",
       "    <tr>\n",
       "      <th>1221473</th>\n",
       "      <td>33</td>\n",
       "      <td>25</td>\n",
       "      <td>7460</td>\n",
       "      <td>299.0</td>\n",
       "      <td>1.0</td>\n",
       "      <td>3</td>\n",
       "      <td>10</td>\n",
       "      <td>2015</td>\n",
       "      <td>59331</td>\n",
       "      <td>2015</td>\n",
       "      <td>34</td>\n",
       "    </tr>\n",
       "  </tbody>\n",
       "</table>\n",
       "<p>1221474 rows × 11 columns</p>\n",
       "</div>"
      ],
      "text/plain": [
       "         date_block_num_x  shop_id  item_id  item_price  item_cnt_month  day  \\\n",
       "0                       0       59    22154       999.0             1.0    2   \n",
       "1                       0       25     2574       399.0             2.0    3   \n",
       "2                       0       25     2574       399.0             1.0    5   \n",
       "3                       0       25     2574       399.0             1.0    7   \n",
       "4                       0       25     2574       399.0             2.0    8   \n",
       "...                   ...      ...      ...         ...             ...  ...   \n",
       "1221469                33       25     7409       299.0             1.0   10   \n",
       "1221470                33       25     7460       299.0             1.0    9   \n",
       "1221471                33       25     7459       349.0             1.0   14   \n",
       "1221472                33       25     7440       299.0             1.0   22   \n",
       "1221473                33       25     7460       299.0             1.0    3   \n",
       "\n",
       "         month  year_x      ID  year_y  date_block_num_y  \n",
       "0            1    2013  150983    2015                34  \n",
       "1            1    2013   56520    2015                34  \n",
       "2            1    2013   56520    2015                34  \n",
       "3            1    2013   56520    2015                34  \n",
       "4            1    2013   56520    2015                34  \n",
       "...        ...     ...     ...     ...               ...  \n",
       "1221469     10    2015   58431    2015                34  \n",
       "1221470     10    2015   59331    2015                34  \n",
       "1221471     10    2015   58430    2015                34  \n",
       "1221472     10    2015   60342    2015                34  \n",
       "1221473     10    2015   59331    2015                34  \n",
       "\n",
       "[1221474 rows x 11 columns]"
      ]
     },
     "execution_count": 50,
     "metadata": {},
     "output_type": "execute_result"
    }
   ],
   "source": [
    "all_data=pd.merge(train,test,on=['item_id','shop_id'],how='left')\n",
    "all_data"
   ]
  },
  {
   "cell_type": "markdown",
   "metadata": {},
   "source": [
    "## Data 쪼개기"
   ]
  },
  {
   "cell_type": "code",
   "execution_count": 51,
   "metadata": {},
   "outputs": [],
   "source": [
    "x_train=all_data[all_data['date_block_num_x']<33].drop(['item_cnt_month'],axis=1)\n",
    "y_train=all_data[all_data['date_block_num_x']<33]['item_cnt_month']\n",
    "x_valid=all_data[all_data['date_block_num_x']==33].drop(['item_cnt_month'],axis=1)\n",
    "y_valid=all_data[all_data['date_block_num_x']==33]['item_cnt_month']\n",
    "x_test=all_data[all_data['date_block_num_y']==34].drop(['item_cnt_month'],axis=1)"
   ]
  },
  {
   "cell_type": "code",
   "execution_count": 52,
   "metadata": {},
   "outputs": [
    {
     "data": {
      "text/html": [
       "<div>\n",
       "<style scoped>\n",
       "    .dataframe tbody tr th:only-of-type {\n",
       "        vertical-align: middle;\n",
       "    }\n",
       "\n",
       "    .dataframe tbody tr th {\n",
       "        vertical-align: top;\n",
       "    }\n",
       "\n",
       "    .dataframe thead th {\n",
       "        text-align: right;\n",
       "    }\n",
       "</style>\n",
       "<table border=\"1\" class=\"dataframe\">\n",
       "  <thead>\n",
       "    <tr style=\"text-align: right;\">\n",
       "      <th></th>\n",
       "      <th>date_block_num_x</th>\n",
       "      <th>shop_id</th>\n",
       "      <th>item_id</th>\n",
       "      <th>item_price</th>\n",
       "      <th>day</th>\n",
       "      <th>month</th>\n",
       "      <th>year_x</th>\n",
       "      <th>ID</th>\n",
       "      <th>year_y</th>\n",
       "      <th>date_block_num_y</th>\n",
       "    </tr>\n",
       "  </thead>\n",
       "  <tbody>\n",
       "    <tr>\n",
       "      <th>0</th>\n",
       "      <td>0</td>\n",
       "      <td>59</td>\n",
       "      <td>22154</td>\n",
       "      <td>999.0</td>\n",
       "      <td>2</td>\n",
       "      <td>1</td>\n",
       "      <td>2013</td>\n",
       "      <td>150983</td>\n",
       "      <td>2015</td>\n",
       "      <td>34</td>\n",
       "    </tr>\n",
       "    <tr>\n",
       "      <th>1</th>\n",
       "      <td>0</td>\n",
       "      <td>25</td>\n",
       "      <td>2574</td>\n",
       "      <td>399.0</td>\n",
       "      <td>3</td>\n",
       "      <td>1</td>\n",
       "      <td>2013</td>\n",
       "      <td>56520</td>\n",
       "      <td>2015</td>\n",
       "      <td>34</td>\n",
       "    </tr>\n",
       "    <tr>\n",
       "      <th>2</th>\n",
       "      <td>0</td>\n",
       "      <td>25</td>\n",
       "      <td>2574</td>\n",
       "      <td>399.0</td>\n",
       "      <td>5</td>\n",
       "      <td>1</td>\n",
       "      <td>2013</td>\n",
       "      <td>56520</td>\n",
       "      <td>2015</td>\n",
       "      <td>34</td>\n",
       "    </tr>\n",
       "    <tr>\n",
       "      <th>3</th>\n",
       "      <td>0</td>\n",
       "      <td>25</td>\n",
       "      <td>2574</td>\n",
       "      <td>399.0</td>\n",
       "      <td>7</td>\n",
       "      <td>1</td>\n",
       "      <td>2013</td>\n",
       "      <td>56520</td>\n",
       "      <td>2015</td>\n",
       "      <td>34</td>\n",
       "    </tr>\n",
       "    <tr>\n",
       "      <th>4</th>\n",
       "      <td>0</td>\n",
       "      <td>25</td>\n",
       "      <td>2574</td>\n",
       "      <td>399.0</td>\n",
       "      <td>8</td>\n",
       "      <td>1</td>\n",
       "      <td>2013</td>\n",
       "      <td>56520</td>\n",
       "      <td>2015</td>\n",
       "      <td>34</td>\n",
       "    </tr>\n",
       "    <tr>\n",
       "      <th>...</th>\n",
       "      <td>...</td>\n",
       "      <td>...</td>\n",
       "      <td>...</td>\n",
       "      <td>...</td>\n",
       "      <td>...</td>\n",
       "      <td>...</td>\n",
       "      <td>...</td>\n",
       "      <td>...</td>\n",
       "      <td>...</td>\n",
       "      <td>...</td>\n",
       "    </tr>\n",
       "    <tr>\n",
       "      <th>1172064</th>\n",
       "      <td>32</td>\n",
       "      <td>25</td>\n",
       "      <td>21109</td>\n",
       "      <td>1799.0</td>\n",
       "      <td>29</td>\n",
       "      <td>9</td>\n",
       "      <td>2015</td>\n",
       "      <td>60899</td>\n",
       "      <td>2015</td>\n",
       "      <td>34</td>\n",
       "    </tr>\n",
       "    <tr>\n",
       "      <th>1172065</th>\n",
       "      <td>32</td>\n",
       "      <td>25</td>\n",
       "      <td>21109</td>\n",
       "      <td>1799.0</td>\n",
       "      <td>12</td>\n",
       "      <td>9</td>\n",
       "      <td>2015</td>\n",
       "      <td>60899</td>\n",
       "      <td>2015</td>\n",
       "      <td>34</td>\n",
       "    </tr>\n",
       "    <tr>\n",
       "      <th>1172066</th>\n",
       "      <td>32</td>\n",
       "      <td>25</td>\n",
       "      <td>21022</td>\n",
       "      <td>1799.0</td>\n",
       "      <td>27</td>\n",
       "      <td>9</td>\n",
       "      <td>2015</td>\n",
       "      <td>60261</td>\n",
       "      <td>2015</td>\n",
       "      <td>34</td>\n",
       "    </tr>\n",
       "    <tr>\n",
       "      <th>1172067</th>\n",
       "      <td>32</td>\n",
       "      <td>25</td>\n",
       "      <td>21105</td>\n",
       "      <td>1799.0</td>\n",
       "      <td>19</td>\n",
       "      <td>9</td>\n",
       "      <td>2015</td>\n",
       "      <td>59895</td>\n",
       "      <td>2015</td>\n",
       "      <td>34</td>\n",
       "    </tr>\n",
       "    <tr>\n",
       "      <th>1172068</th>\n",
       "      <td>32</td>\n",
       "      <td>25</td>\n",
       "      <td>20303</td>\n",
       "      <td>399.0</td>\n",
       "      <td>25</td>\n",
       "      <td>9</td>\n",
       "      <td>2015</td>\n",
       "      <td>57012</td>\n",
       "      <td>2015</td>\n",
       "      <td>34</td>\n",
       "    </tr>\n",
       "  </tbody>\n",
       "</table>\n",
       "<p>1172069 rows × 10 columns</p>\n",
       "</div>"
      ],
      "text/plain": [
       "         date_block_num_x  shop_id  item_id  item_price  day  month  year_x  \\\n",
       "0                       0       59    22154       999.0    2      1    2013   \n",
       "1                       0       25     2574       399.0    3      1    2013   \n",
       "2                       0       25     2574       399.0    5      1    2013   \n",
       "3                       0       25     2574       399.0    7      1    2013   \n",
       "4                       0       25     2574       399.0    8      1    2013   \n",
       "...                   ...      ...      ...         ...  ...    ...     ...   \n",
       "1172064                32       25    21109      1799.0   29      9    2015   \n",
       "1172065                32       25    21109      1799.0   12      9    2015   \n",
       "1172066                32       25    21022      1799.0   27      9    2015   \n",
       "1172067                32       25    21105      1799.0   19      9    2015   \n",
       "1172068                32       25    20303       399.0   25      9    2015   \n",
       "\n",
       "             ID  year_y  date_block_num_y  \n",
       "0        150983    2015                34  \n",
       "1         56520    2015                34  \n",
       "2         56520    2015                34  \n",
       "3         56520    2015                34  \n",
       "4         56520    2015                34  \n",
       "...         ...     ...               ...  \n",
       "1172064   60899    2015                34  \n",
       "1172065   60899    2015                34  \n",
       "1172066   60261    2015                34  \n",
       "1172067   59895    2015                34  \n",
       "1172068   57012    2015                34  \n",
       "\n",
       "[1172069 rows x 10 columns]"
      ]
     },
     "execution_count": 52,
     "metadata": {},
     "output_type": "execute_result"
    }
   ],
   "source": [
    "x_train"
   ]
  },
  {
   "cell_type": "code",
   "execution_count": 53,
   "metadata": {
    "scrolled": true
   },
   "outputs": [
    {
     "data": {
      "text/plain": [
       "0          1.0\n",
       "1          2.0\n",
       "2          1.0\n",
       "3          1.0\n",
       "4          2.0\n",
       "          ... \n",
       "1172064    1.0\n",
       "1172065    1.0\n",
       "1172066    1.0\n",
       "1172067    1.0\n",
       "1172068    1.0\n",
       "Name: item_cnt_month, Length: 1172069, dtype: float64"
      ]
     },
     "execution_count": 53,
     "metadata": {},
     "output_type": "execute_result"
    }
   ],
   "source": [
    "y_train"
   ]
  },
  {
   "cell_type": "markdown",
   "metadata": {},
   "source": [
    "## Modeling"
   ]
  },
  {
   "cell_type": "markdown",
   "metadata": {},
   "source": [
    "### xgboost"
   ]
  },
  {
   "cell_type": "code",
   "execution_count": 54,
   "metadata": {
    "scrolled": false
   },
   "outputs": [
    {
     "name": "stdout",
     "output_type": "stream",
     "text": [
      "[0]\tvalidation_0-rmse:2.14794\tvalidation_1-rmse:1.38084\n",
      "[1]\tvalidation_0-rmse:2.02451\tvalidation_1-rmse:1.30948\n",
      "[2]\tvalidation_0-rmse:1.95814\tvalidation_1-rmse:1.26799\n",
      "[3]\tvalidation_0-rmse:1.90859\tvalidation_1-rmse:1.25411\n",
      "[4]\tvalidation_0-rmse:1.88400\tvalidation_1-rmse:1.24482\n",
      "[5]\tvalidation_0-rmse:1.86417\tvalidation_1-rmse:1.24101\n",
      "[6]\tvalidation_0-rmse:1.85267\tvalidation_1-rmse:1.24071\n",
      "[7]\tvalidation_0-rmse:1.84037\tvalidation_1-rmse:1.23964\n",
      "[8]\tvalidation_0-rmse:1.83469\tvalidation_1-rmse:1.23945\n",
      "[9]\tvalidation_0-rmse:1.83155\tvalidation_1-rmse:1.23990\n",
      "[10]\tvalidation_0-rmse:1.82347\tvalidation_1-rmse:1.23702\n",
      "[11]\tvalidation_0-rmse:1.81991\tvalidation_1-rmse:1.23737\n",
      "[12]\tvalidation_0-rmse:1.81150\tvalidation_1-rmse:1.23577\n",
      "[13]\tvalidation_0-rmse:1.80528\tvalidation_1-rmse:1.23919\n",
      "[14]\tvalidation_0-rmse:1.80243\tvalidation_1-rmse:1.23829\n",
      "[15]\tvalidation_0-rmse:1.80015\tvalidation_1-rmse:1.23942\n",
      "[16]\tvalidation_0-rmse:1.79442\tvalidation_1-rmse:1.24022\n",
      "[17]\tvalidation_0-rmse:1.78670\tvalidation_1-rmse:1.24017\n",
      "[18]\tvalidation_0-rmse:1.78593\tvalidation_1-rmse:1.23805\n",
      "[19]\tvalidation_0-rmse:1.78468\tvalidation_1-rmse:1.23772\n",
      "[20]\tvalidation_0-rmse:1.78326\tvalidation_1-rmse:1.23691\n",
      "[21]\tvalidation_0-rmse:1.78108\tvalidation_1-rmse:1.23790\n",
      "[22]\tvalidation_0-rmse:1.77992\tvalidation_1-rmse:1.23726\n"
     ]
    },
    {
     "data": {
      "text/plain": [
       "XGBRegressor(base_score=0.5, booster='gbtree', colsample_bylevel=1,\n",
       "             colsample_bynode=1, colsample_bytree=0.8, eta=0.3, gamma=0,\n",
       "             gpu_id=-1, importance_type='gain', interaction_constraints='',\n",
       "             learning_rate=0.300000012, max_delta_step=0, max_depth=8,\n",
       "             min_child_weight=300, missing=nan, monotone_constraints='()',\n",
       "             n_estimators=1000, n_jobs=8, num_parallel_tree=1, random_state=42,\n",
       "             reg_alpha=0, reg_lambda=1, scale_pos_weight=1, seed=42,\n",
       "             subsample=0.8, tree_method='exact', validate_parameters=1,\n",
       "             verbosity=None)"
      ]
     },
     "execution_count": 54,
     "metadata": {},
     "output_type": "execute_result"
    }
   ],
   "source": [
    "from xgboost import XGBRegressor\n",
    "\n",
    "\n",
    "model_xgb = XGBRegressor(max_depth=8,n_estimators=1000,min_child_weight=300,colsample_bytree=0.8,subsample=0.8,eta=0.3,seed=42)\n",
    "\n",
    "model_xgb.fit(x_train,y_train,eval_metric='rmse',\n",
    "         eval_set=[(x_train,y_train),(x_valid,y_valid)],\n",
    "         verbose=True, early_stopping_rounds=10)"
   ]
  },
  {
   "cell_type": "code",
   "execution_count": 82,
   "metadata": {},
   "outputs": [],
   "source": [
    "pred_xgb = model_xgb.predict(x_test).clip(0., 20.)\n",
    "\n",
    "# 제출 submission 생성\n",
    "preds = pd.DataFrame(pred_xgb, columns=['item_cnt_month'])\n",
    "preds.to_csv('submission_xgb.csv',index_label='ID')\n"
   ]
  },
  {
   "cell_type": "code",
   "execution_count": 83,
   "metadata": {
    "scrolled": false
   },
   "outputs": [
    {
     "data": {
      "text/html": [
       "<div>\n",
       "<style scoped>\n",
       "    .dataframe tbody tr th:only-of-type {\n",
       "        vertical-align: middle;\n",
       "    }\n",
       "\n",
       "    .dataframe tbody tr th {\n",
       "        vertical-align: top;\n",
       "    }\n",
       "\n",
       "    .dataframe thead th {\n",
       "        text-align: right;\n",
       "    }\n",
       "</style>\n",
       "<table border=\"1\" class=\"dataframe\">\n",
       "  <thead>\n",
       "    <tr style=\"text-align: right;\">\n",
       "      <th></th>\n",
       "      <th>ID</th>\n",
       "      <th>item_cnt_month</th>\n",
       "    </tr>\n",
       "  </thead>\n",
       "  <tbody>\n",
       "    <tr>\n",
       "      <th>1107048</th>\n",
       "      <td>0</td>\n",
       "      <td>0.980814</td>\n",
       "    </tr>\n",
       "    <tr>\n",
       "      <th>1017292</th>\n",
       "      <td>0</td>\n",
       "      <td>0.939279</td>\n",
       "    </tr>\n",
       "    <tr>\n",
       "      <th>952349</th>\n",
       "      <td>0</td>\n",
       "      <td>0.952190</td>\n",
       "    </tr>\n",
       "    <tr>\n",
       "      <th>741819</th>\n",
       "      <td>0</td>\n",
       "      <td>1.077961</td>\n",
       "    </tr>\n",
       "    <tr>\n",
       "      <th>741818</th>\n",
       "      <td>0</td>\n",
       "      <td>1.111430</td>\n",
       "    </tr>\n",
       "    <tr>\n",
       "      <th>...</th>\n",
       "      <td>...</td>\n",
       "      <td>...</td>\n",
       "    </tr>\n",
       "    <tr>\n",
       "      <th>236264</th>\n",
       "      <td>214197</td>\n",
       "      <td>1.030689</td>\n",
       "    </tr>\n",
       "    <tr>\n",
       "      <th>526603</th>\n",
       "      <td>214199</td>\n",
       "      <td>1.040520</td>\n",
       "    </tr>\n",
       "    <tr>\n",
       "      <th>485724</th>\n",
       "      <td>214199</td>\n",
       "      <td>1.040520</td>\n",
       "    </tr>\n",
       "    <tr>\n",
       "      <th>479479</th>\n",
       "      <td>214199</td>\n",
       "      <td>1.048528</td>\n",
       "    </tr>\n",
       "    <tr>\n",
       "      <th>479480</th>\n",
       "      <td>214199</td>\n",
       "      <td>1.053127</td>\n",
       "    </tr>\n",
       "  </tbody>\n",
       "</table>\n",
       "<p>1221474 rows × 2 columns</p>\n",
       "</div>"
      ],
      "text/plain": [
       "             ID  item_cnt_month\n",
       "1107048       0        0.980814\n",
       "1017292       0        0.939279\n",
       "952349        0        0.952190\n",
       "741819        0        1.077961\n",
       "741818        0        1.111430\n",
       "...         ...             ...\n",
       "236264   214197        1.030689\n",
       "526603   214199        1.040520\n",
       "485724   214199        1.040520\n",
       "479479   214199        1.048528\n",
       "479480   214199        1.053127\n",
       "\n",
       "[1221474 rows x 2 columns]"
      ]
     },
     "execution_count": 83,
     "metadata": {},
     "output_type": "execute_result"
    }
   ],
   "source": [
    "preds = model_xgb.predict(x_test)\n",
    "preds = x_test.assign(item_cnt_month=preds)\n",
    "preds = preds[['ID', 'item_cnt_month']]\n",
    "preds = preds.sort_values(by='ID')\n",
    "preds"
   ]
  },
  {
   "cell_type": "markdown",
   "metadata": {},
   "source": [
    "#### 수정,,,"
   ]
  },
  {
   "cell_type": "code",
   "execution_count": null,
   "metadata": {},
   "outputs": [],
   "source": [
    "sub=pd.read_csv('submission_xgb.csv')\n",
    "fin=sub[0:214200]\n",
    "fin\n",
    "\n",
    "fin.to_csv('submisiion_pile.csv',index=False)\n",
    "fin"
   ]
  },
  {
   "cell_type": "markdown",
   "metadata": {},
   "source": [
    "### Light GBM"
   ]
  },
  {
   "cell_type": "code",
   "execution_count": 57,
   "metadata": {
    "scrolled": false
   },
   "outputs": [
    {
     "name": "stdout",
     "output_type": "stream",
     "text": [
      "[1]\ttraining's rmse: 2.1883\ttraining's l2: 4.78867\tvalid_1's rmse: 1.38704\tvalid_1's l2: 1.92388\n",
      "Training until validation scores don't improve for 10 rounds\n",
      "[2]\ttraining's rmse: 2.17251\ttraining's l2: 4.71978\tvalid_1's rmse: 1.37803\tvalid_1's l2: 1.89896\n",
      "[3]\ttraining's rmse: 2.15751\ttraining's l2: 4.65486\tvalid_1's rmse: 1.36959\tvalid_1's l2: 1.87577\n",
      "[4]\ttraining's rmse: 2.14315\ttraining's l2: 4.59307\tvalid_1's rmse: 1.3628\tvalid_1's l2: 1.85722\n",
      "[5]\ttraining's rmse: 2.12979\ttraining's l2: 4.53602\tvalid_1's rmse: 1.35662\tvalid_1's l2: 1.84041\n",
      "[6]\ttraining's rmse: 2.11667\ttraining's l2: 4.48028\tvalid_1's rmse: 1.34932\tvalid_1's l2: 1.82068\n",
      "[7]\ttraining's rmse: 2.10415\ttraining's l2: 4.42744\tvalid_1's rmse: 1.3441\tvalid_1's l2: 1.80661\n",
      "[8]\ttraining's rmse: 2.09222\ttraining's l2: 4.37738\tvalid_1's rmse: 1.33793\tvalid_1's l2: 1.79006\n",
      "[9]\ttraining's rmse: 2.08085\ttraining's l2: 4.32994\tvalid_1's rmse: 1.33306\tvalid_1's l2: 1.77704\n",
      "[10]\ttraining's rmse: 2.07003\ttraining's l2: 4.28503\tvalid_1's rmse: 1.32718\tvalid_1's l2: 1.7614\n",
      "[11]\ttraining's rmse: 2.06016\ttraining's l2: 4.24425\tvalid_1's rmse: 1.32316\tvalid_1's l2: 1.75076\n",
      "[12]\ttraining's rmse: 2.05044\ttraining's l2: 4.20431\tvalid_1's rmse: 1.31798\tvalid_1's l2: 1.73707\n",
      "[13]\ttraining's rmse: 2.04092\ttraining's l2: 4.16536\tvalid_1's rmse: 1.31448\tvalid_1's l2: 1.72786\n",
      "[14]\ttraining's rmse: 2.03208\ttraining's l2: 4.12936\tvalid_1's rmse: 1.30979\tvalid_1's l2: 1.71554\n",
      "[15]\ttraining's rmse: 2.02382\ttraining's l2: 4.09586\tvalid_1's rmse: 1.30681\tvalid_1's l2: 1.70776\n",
      "[16]\ttraining's rmse: 2.01503\ttraining's l2: 4.06033\tvalid_1's rmse: 1.30252\tvalid_1's l2: 1.69656\n",
      "[17]\ttraining's rmse: 2.00758\ttraining's l2: 4.03038\tvalid_1's rmse: 1.29977\tvalid_1's l2: 1.68941\n",
      "[18]\ttraining's rmse: 2\ttraining's l2: 3.99999\tvalid_1's rmse: 1.29657\tvalid_1's l2: 1.6811\n",
      "[19]\ttraining's rmse: 1.99341\ttraining's l2: 3.97368\tvalid_1's rmse: 1.29418\tvalid_1's l2: 1.67491\n",
      "[20]\ttraining's rmse: 1.98653\ttraining's l2: 3.94631\tvalid_1's rmse: 1.29088\tvalid_1's l2: 1.66638\n",
      "[21]\ttraining's rmse: 1.97918\ttraining's l2: 3.91714\tvalid_1's rmse: 1.28885\tvalid_1's l2: 1.66114\n",
      "[22]\ttraining's rmse: 1.97305\ttraining's l2: 3.89294\tvalid_1's rmse: 1.28588\tvalid_1's l2: 1.65348\n",
      "[23]\ttraining's rmse: 1.96663\ttraining's l2: 3.86762\tvalid_1's rmse: 1.2842\tvalid_1's l2: 1.64916\n",
      "[24]\ttraining's rmse: 1.95955\ttraining's l2: 3.83984\tvalid_1's rmse: 1.2822\tvalid_1's l2: 1.64402\n",
      "[25]\ttraining's rmse: 1.9543\ttraining's l2: 3.8193\tvalid_1's rmse: 1.27975\tvalid_1's l2: 1.63776\n",
      "[26]\ttraining's rmse: 1.94798\ttraining's l2: 3.79461\tvalid_1's rmse: 1.27884\tvalid_1's l2: 1.63544\n",
      "[27]\ttraining's rmse: 1.94164\ttraining's l2: 3.76996\tvalid_1's rmse: 1.27784\tvalid_1's l2: 1.63288\n",
      "[28]\ttraining's rmse: 1.93595\ttraining's l2: 3.74791\tvalid_1's rmse: 1.27691\tvalid_1's l2: 1.6305\n",
      "[29]\ttraining's rmse: 1.93147\ttraining's l2: 3.73056\tvalid_1's rmse: 1.27524\tvalid_1's l2: 1.62622\n",
      "[30]\ttraining's rmse: 1.92624\ttraining's l2: 3.71042\tvalid_1's rmse: 1.27478\tvalid_1's l2: 1.62507\n",
      "[31]\ttraining's rmse: 1.92089\ttraining's l2: 3.68983\tvalid_1's rmse: 1.27343\tvalid_1's l2: 1.62163\n",
      "[32]\ttraining's rmse: 1.91706\ttraining's l2: 3.6751\tvalid_1's rmse: 1.27296\tvalid_1's l2: 1.62042\n",
      "[33]\ttraining's rmse: 1.91255\ttraining's l2: 3.65785\tvalid_1's rmse: 1.27258\tvalid_1's l2: 1.61945\n",
      "[34]\ttraining's rmse: 1.9082\ttraining's l2: 3.64124\tvalid_1's rmse: 1.27248\tvalid_1's l2: 1.6192\n",
      "[35]\ttraining's rmse: 1.90467\ttraining's l2: 3.62776\tvalid_1's rmse: 1.27127\tvalid_1's l2: 1.61614\n",
      "[36]\ttraining's rmse: 1.90191\ttraining's l2: 3.61726\tvalid_1's rmse: 1.2709\tvalid_1's l2: 1.61518\n",
      "[37]\ttraining's rmse: 1.8977\ttraining's l2: 3.60126\tvalid_1's rmse: 1.26916\tvalid_1's l2: 1.61076\n",
      "[38]\ttraining's rmse: 1.89399\ttraining's l2: 3.58718\tvalid_1's rmse: 1.26949\tvalid_1's l2: 1.61162\n",
      "[39]\ttraining's rmse: 1.88978\ttraining's l2: 3.57128\tvalid_1's rmse: 1.26737\tvalid_1's l2: 1.60624\n",
      "[40]\ttraining's rmse: 1.88721\ttraining's l2: 3.56155\tvalid_1's rmse: 1.26635\tvalid_1's l2: 1.60364\n",
      "[41]\ttraining's rmse: 1.88351\ttraining's l2: 3.54761\tvalid_1's rmse: 1.26592\tvalid_1's l2: 1.60256\n",
      "[42]\ttraining's rmse: 1.87983\ttraining's l2: 3.53374\tvalid_1's rmse: 1.26493\tvalid_1's l2: 1.60005\n",
      "[43]\ttraining's rmse: 1.87773\ttraining's l2: 3.52587\tvalid_1's rmse: 1.26446\tvalid_1's l2: 1.59885\n",
      "[44]\ttraining's rmse: 1.87407\ttraining's l2: 3.51215\tvalid_1's rmse: 1.26308\tvalid_1's l2: 1.59537\n",
      "[45]\ttraining's rmse: 1.87058\ttraining's l2: 3.49907\tvalid_1's rmse: 1.26271\tvalid_1's l2: 1.59443\n",
      "[46]\ttraining's rmse: 1.86722\ttraining's l2: 3.48652\tvalid_1's rmse: 1.2615\tvalid_1's l2: 1.59137\n",
      "[47]\ttraining's rmse: 1.86501\ttraining's l2: 3.47827\tvalid_1's rmse: 1.26038\tvalid_1's l2: 1.58855\n",
      "[48]\ttraining's rmse: 1.86305\ttraining's l2: 3.47097\tvalid_1's rmse: 1.25973\tvalid_1's l2: 1.58692\n",
      "[49]\ttraining's rmse: 1.86118\ttraining's l2: 3.464\tvalid_1's rmse: 1.25904\tvalid_1's l2: 1.58518\n",
      "[50]\ttraining's rmse: 1.8593\ttraining's l2: 3.45701\tvalid_1's rmse: 1.25893\tvalid_1's l2: 1.5849\n",
      "[51]\ttraining's rmse: 1.85631\ttraining's l2: 3.44589\tvalid_1's rmse: 1.25815\tvalid_1's l2: 1.58293\n",
      "[52]\ttraining's rmse: 1.85472\ttraining's l2: 3.43998\tvalid_1's rmse: 1.2578\tvalid_1's l2: 1.58206\n",
      "[53]\ttraining's rmse: 1.85192\ttraining's l2: 3.4296\tvalid_1's rmse: 1.25804\tvalid_1's l2: 1.58265\n",
      "[54]\ttraining's rmse: 1.84944\ttraining's l2: 3.42042\tvalid_1's rmse: 1.25745\tvalid_1's l2: 1.58119\n",
      "[55]\ttraining's rmse: 1.84806\ttraining's l2: 3.41533\tvalid_1's rmse: 1.25728\tvalid_1's l2: 1.58076\n",
      "[56]\ttraining's rmse: 1.84601\ttraining's l2: 3.40774\tvalid_1's rmse: 1.25672\tvalid_1's l2: 1.57935\n",
      "[57]\ttraining's rmse: 1.84354\ttraining's l2: 3.39863\tvalid_1's rmse: 1.25693\tvalid_1's l2: 1.57988\n",
      "[58]\ttraining's rmse: 1.84126\ttraining's l2: 3.39023\tvalid_1's rmse: 1.25644\tvalid_1's l2: 1.57864\n",
      "[59]\ttraining's rmse: 1.83972\ttraining's l2: 3.38458\tvalid_1's rmse: 1.25607\tvalid_1's l2: 1.57771\n",
      "[60]\ttraining's rmse: 1.83861\ttraining's l2: 3.38049\tvalid_1's rmse: 1.25594\tvalid_1's l2: 1.57739\n",
      "[61]\ttraining's rmse: 1.83666\ttraining's l2: 3.37332\tvalid_1's rmse: 1.25552\tvalid_1's l2: 1.57634\n",
      "[62]\ttraining's rmse: 1.83433\ttraining's l2: 3.36478\tvalid_1's rmse: 1.25495\tvalid_1's l2: 1.5749\n",
      "[63]\ttraining's rmse: 1.83285\ttraining's l2: 3.35936\tvalid_1's rmse: 1.2546\tvalid_1's l2: 1.57402\n",
      "[64]\ttraining's rmse: 1.83106\ttraining's l2: 3.3528\tvalid_1's rmse: 1.2543\tvalid_1's l2: 1.57327\n",
      "[65]\ttraining's rmse: 1.82925\ttraining's l2: 3.34616\tvalid_1's rmse: 1.25382\tvalid_1's l2: 1.57206\n",
      "[66]\ttraining's rmse: 1.82739\ttraining's l2: 3.33934\tvalid_1's rmse: 1.2536\tvalid_1's l2: 1.5715\n",
      "[67]\ttraining's rmse: 1.82618\ttraining's l2: 3.33494\tvalid_1's rmse: 1.25328\tvalid_1's l2: 1.57072\n",
      "[68]\ttraining's rmse: 1.82448\ttraining's l2: 3.32874\tvalid_1's rmse: 1.25312\tvalid_1's l2: 1.57031\n",
      "[69]\ttraining's rmse: 1.82362\ttraining's l2: 3.32559\tvalid_1's rmse: 1.25264\tvalid_1's l2: 1.56912\n",
      "[70]\ttraining's rmse: 1.82286\ttraining's l2: 3.32281\tvalid_1's rmse: 1.25254\tvalid_1's l2: 1.56885\n",
      "[71]\ttraining's rmse: 1.82132\ttraining's l2: 3.31719\tvalid_1's rmse: 1.25245\tvalid_1's l2: 1.56863\n",
      "[72]\ttraining's rmse: 1.81958\ttraining's l2: 3.31085\tvalid_1's rmse: 1.25229\tvalid_1's l2: 1.56823\n",
      "[73]\ttraining's rmse: 1.81783\ttraining's l2: 3.3045\tvalid_1's rmse: 1.25234\tvalid_1's l2: 1.56835\n",
      "[74]\ttraining's rmse: 1.8163\ttraining's l2: 3.29894\tvalid_1's rmse: 1.25224\tvalid_1's l2: 1.56811\n",
      "[75]\ttraining's rmse: 1.81565\ttraining's l2: 3.29658\tvalid_1's rmse: 1.2517\tvalid_1's l2: 1.56676\n",
      "[76]\ttraining's rmse: 1.81417\ttraining's l2: 3.2912\tvalid_1's rmse: 1.2518\tvalid_1's l2: 1.56699\n",
      "[77]\ttraining's rmse: 1.81307\ttraining's l2: 3.28723\tvalid_1's rmse: 1.25178\tvalid_1's l2: 1.56695\n",
      "[78]\ttraining's rmse: 1.81192\ttraining's l2: 3.28306\tvalid_1's rmse: 1.25173\tvalid_1's l2: 1.56684\n",
      "[79]\ttraining's rmse: 1.81064\ttraining's l2: 3.2784\tvalid_1's rmse: 1.25149\tvalid_1's l2: 1.56624\n",
      "[80]\ttraining's rmse: 1.80905\ttraining's l2: 3.27266\tvalid_1's rmse: 1.25167\tvalid_1's l2: 1.56668\n",
      "[81]\ttraining's rmse: 1.80808\ttraining's l2: 3.26915\tvalid_1's rmse: 1.25164\tvalid_1's l2: 1.56661\n",
      "[82]\ttraining's rmse: 1.80663\ttraining's l2: 3.26391\tvalid_1's rmse: 1.25159\tvalid_1's l2: 1.56647\n"
     ]
    },
    {
     "name": "stdout",
     "output_type": "stream",
     "text": [
      "[83]\ttraining's rmse: 1.80557\ttraining's l2: 3.2601\tvalid_1's rmse: 1.25163\tvalid_1's l2: 1.56657\n",
      "[84]\ttraining's rmse: 1.80497\ttraining's l2: 3.25792\tvalid_1's rmse: 1.25132\tvalid_1's l2: 1.5658\n",
      "[85]\ttraining's rmse: 1.80382\ttraining's l2: 3.25375\tvalid_1's rmse: 1.25152\tvalid_1's l2: 1.5663\n",
      "[86]\ttraining's rmse: 1.80333\ttraining's l2: 3.25201\tvalid_1's rmse: 1.25115\tvalid_1's l2: 1.56538\n",
      "[87]\ttraining's rmse: 1.80126\ttraining's l2: 3.24452\tvalid_1's rmse: 1.25112\tvalid_1's l2: 1.56531\n",
      "[88]\ttraining's rmse: 1.80053\ttraining's l2: 3.24191\tvalid_1's rmse: 1.25058\tvalid_1's l2: 1.56395\n",
      "[89]\ttraining's rmse: 1.79926\ttraining's l2: 3.23735\tvalid_1's rmse: 1.25059\tvalid_1's l2: 1.56398\n",
      "[90]\ttraining's rmse: 1.7973\ttraining's l2: 3.2303\tvalid_1's rmse: 1.25059\tvalid_1's l2: 1.56398\n",
      "[91]\ttraining's rmse: 1.79658\ttraining's l2: 3.22768\tvalid_1's rmse: 1.25043\tvalid_1's l2: 1.56359\n",
      "[92]\ttraining's rmse: 1.79597\ttraining's l2: 3.22552\tvalid_1's rmse: 1.25031\tvalid_1's l2: 1.56329\n",
      "[93]\ttraining's rmse: 1.79414\ttraining's l2: 3.21893\tvalid_1's rmse: 1.25031\tvalid_1's l2: 1.56326\n",
      "[94]\ttraining's rmse: 1.7936\ttraining's l2: 3.217\tvalid_1's rmse: 1.25001\tvalid_1's l2: 1.56253\n",
      "[95]\ttraining's rmse: 1.7927\ttraining's l2: 3.21378\tvalid_1's rmse: 1.24975\tvalid_1's l2: 1.56188\n",
      "[96]\ttraining's rmse: 1.79145\ttraining's l2: 3.2093\tvalid_1's rmse: 1.24993\tvalid_1's l2: 1.56233\n",
      "[97]\ttraining's rmse: 1.78975\ttraining's l2: 3.20319\tvalid_1's rmse: 1.2499\tvalid_1's l2: 1.56226\n",
      "[98]\ttraining's rmse: 1.78908\ttraining's l2: 3.20082\tvalid_1's rmse: 1.24977\tvalid_1's l2: 1.56192\n",
      "[99]\ttraining's rmse: 1.78811\ttraining's l2: 3.19734\tvalid_1's rmse: 1.24967\tvalid_1's l2: 1.56167\n",
      "[100]\ttraining's rmse: 1.78756\ttraining's l2: 3.19538\tvalid_1's rmse: 1.2496\tvalid_1's l2: 1.5615\n",
      "[101]\ttraining's rmse: 1.78591\ttraining's l2: 3.18946\tvalid_1's rmse: 1.24964\tvalid_1's l2: 1.56161\n",
      "[102]\ttraining's rmse: 1.78515\ttraining's l2: 3.18675\tvalid_1's rmse: 1.2494\tvalid_1's l2: 1.56099\n",
      "[103]\ttraining's rmse: 1.78431\ttraining's l2: 3.18377\tvalid_1's rmse: 1.24933\tvalid_1's l2: 1.56081\n",
      "[104]\ttraining's rmse: 1.78396\ttraining's l2: 3.18252\tvalid_1's rmse: 1.24906\tvalid_1's l2: 1.56014\n",
      "[105]\ttraining's rmse: 1.78248\ttraining's l2: 3.17723\tvalid_1's rmse: 1.24897\tvalid_1's l2: 1.55993\n",
      "[106]\ttraining's rmse: 1.78181\ttraining's l2: 3.17485\tvalid_1's rmse: 1.24892\tvalid_1's l2: 1.55981\n",
      "[107]\ttraining's rmse: 1.78147\ttraining's l2: 3.17362\tvalid_1's rmse: 1.24887\tvalid_1's l2: 1.55967\n",
      "[108]\ttraining's rmse: 1.78047\ttraining's l2: 3.17007\tvalid_1's rmse: 1.24884\tvalid_1's l2: 1.55961\n",
      "[109]\ttraining's rmse: 1.78014\ttraining's l2: 3.1689\tvalid_1's rmse: 1.24903\tvalid_1's l2: 1.56008\n",
      "[110]\ttraining's rmse: 1.779\ttraining's l2: 3.16486\tvalid_1's rmse: 1.24905\tvalid_1's l2: 1.56012\n",
      "[111]\ttraining's rmse: 1.7784\ttraining's l2: 3.1627\tvalid_1's rmse: 1.24909\tvalid_1's l2: 1.56024\n",
      "[112]\ttraining's rmse: 1.77718\ttraining's l2: 3.15837\tvalid_1's rmse: 1.24949\tvalid_1's l2: 1.56122\n",
      "[113]\ttraining's rmse: 1.77586\ttraining's l2: 3.1537\tvalid_1's rmse: 1.24932\tvalid_1's l2: 1.5608\n",
      "[114]\ttraining's rmse: 1.77531\ttraining's l2: 3.15172\tvalid_1's rmse: 1.24926\tvalid_1's l2: 1.56064\n",
      "[115]\ttraining's rmse: 1.7747\ttraining's l2: 3.14955\tvalid_1's rmse: 1.24913\tvalid_1's l2: 1.56033\n",
      "[116]\ttraining's rmse: 1.77423\ttraining's l2: 3.14789\tvalid_1's rmse: 1.24893\tvalid_1's l2: 1.55983\n",
      "[117]\ttraining's rmse: 1.77293\ttraining's l2: 3.14329\tvalid_1's rmse: 1.24897\tvalid_1's l2: 1.55992\n",
      "[118]\ttraining's rmse: 1.7725\ttraining's l2: 3.14175\tvalid_1's rmse: 1.24886\tvalid_1's l2: 1.55965\n",
      "Early stopping, best iteration is:\n",
      "[108]\ttraining's rmse: 1.78047\ttraining's l2: 3.17007\tvalid_1's rmse: 1.24884\tvalid_1's l2: 1.55961\n"
     ]
    }
   ],
   "source": [
    "from lightgbm import LGBMRegressor\n",
    "\n",
    "model_lgb = LGBMRegressor( n_estimators=200,\n",
    "                           learning_rate=0.03,\n",
    "                           num_leaves=32,\n",
    "                           colsample_bytree=0.9497036,\n",
    "                           subsample=0.8715623,\n",
    "                           max_depth=8,\n",
    "                           reg_alpha=0.04,\n",
    "                           reg_lambda=0.073,\n",
    "                           min_split_gain=0.0222415,\n",
    "                           min_child_weight=40)\n",
    "\n",
    "model_lgb.fit(x_train,y_train,eval_metric='rmse',\n",
    "         eval_set=[(x_train,y_train),(x_valid,y_valid)],\n",
    "         verbose=True, early_stopping_rounds=10)\n",
    "\n",
    "y_pred_lgb = model_lgb.predict(x_test)"
   ]
  },
  {
   "cell_type": "code",
   "execution_count": 58,
   "metadata": {},
   "outputs": [],
   "source": [
    "# 테스트 세트 예측 및 클립 값을 지정된 범위로 가져옴\n",
    "y_pred_lgb = model_lgb.predict(x_test).clip(0., 20.)\n",
    "\n",
    "# 제출 submission 생성\n",
    "preds = pd.DataFrame(y_pred_lgb, columns=['item_cnt_month'])\n",
    "preds.to_csv('submission_lgb.csv',index_label='ID')"
   ]
  },
  {
   "cell_type": "code",
   "execution_count": 59,
   "metadata": {
    "scrolled": false
   },
   "outputs": [
    {
     "data": {
      "text/html": [
       "<div>\n",
       "<style scoped>\n",
       "    .dataframe tbody tr th:only-of-type {\n",
       "        vertical-align: middle;\n",
       "    }\n",
       "\n",
       "    .dataframe tbody tr th {\n",
       "        vertical-align: top;\n",
       "    }\n",
       "\n",
       "    .dataframe thead th {\n",
       "        text-align: right;\n",
       "    }\n",
       "</style>\n",
       "<table border=\"1\" class=\"dataframe\">\n",
       "  <thead>\n",
       "    <tr style=\"text-align: right;\">\n",
       "      <th></th>\n",
       "      <th>ID</th>\n",
       "      <th>item_cnt_month</th>\n",
       "    </tr>\n",
       "  </thead>\n",
       "  <tbody>\n",
       "    <tr>\n",
       "      <th>1107048</th>\n",
       "      <td>0</td>\n",
       "      <td>1.159519</td>\n",
       "    </tr>\n",
       "    <tr>\n",
       "      <th>1017292</th>\n",
       "      <td>0</td>\n",
       "      <td>1.159519</td>\n",
       "    </tr>\n",
       "    <tr>\n",
       "      <th>952349</th>\n",
       "      <td>0</td>\n",
       "      <td>1.179839</td>\n",
       "    </tr>\n",
       "    <tr>\n",
       "      <th>741819</th>\n",
       "      <td>0</td>\n",
       "      <td>1.234493</td>\n",
       "    </tr>\n",
       "    <tr>\n",
       "      <th>741818</th>\n",
       "      <td>0</td>\n",
       "      <td>1.234493</td>\n",
       "    </tr>\n",
       "    <tr>\n",
       "      <th>...</th>\n",
       "      <td>...</td>\n",
       "      <td>...</td>\n",
       "    </tr>\n",
       "    <tr>\n",
       "      <th>236264</th>\n",
       "      <td>214197</td>\n",
       "      <td>1.108948</td>\n",
       "    </tr>\n",
       "    <tr>\n",
       "      <th>526603</th>\n",
       "      <td>214199</td>\n",
       "      <td>1.166739</td>\n",
       "    </tr>\n",
       "    <tr>\n",
       "      <th>485724</th>\n",
       "      <td>214199</td>\n",
       "      <td>1.166739</td>\n",
       "    </tr>\n",
       "    <tr>\n",
       "      <th>479479</th>\n",
       "      <td>214199</td>\n",
       "      <td>1.167803</td>\n",
       "    </tr>\n",
       "    <tr>\n",
       "      <th>479480</th>\n",
       "      <td>214199</td>\n",
       "      <td>1.167803</td>\n",
       "    </tr>\n",
       "  </tbody>\n",
       "</table>\n",
       "<p>1221474 rows × 2 columns</p>\n",
       "</div>"
      ],
      "text/plain": [
       "             ID  item_cnt_month\n",
       "1107048       0        1.159519\n",
       "1017292       0        1.159519\n",
       "952349        0        1.179839\n",
       "741819        0        1.234493\n",
       "741818        0        1.234493\n",
       "...         ...             ...\n",
       "236264   214197        1.108948\n",
       "526603   214199        1.166739\n",
       "485724   214199        1.166739\n",
       "479479   214199        1.167803\n",
       "479480   214199        1.167803\n",
       "\n",
       "[1221474 rows x 2 columns]"
      ]
     },
     "execution_count": 59,
     "metadata": {},
     "output_type": "execute_result"
    }
   ],
   "source": [
    "preds = model_lgb.predict(x_test)\n",
    "preds = x_test.assign(item_cnt_month=preds)\n",
    "preds = preds[['ID', 'item_cnt_month']]\n",
    "preds = preds.sort_values(by='ID')\n",
    "preds"
   ]
  },
  {
   "cell_type": "markdown",
   "metadata": {},
   "source": [
    "## gradient boost model"
   ]
  },
  {
   "cell_type": "code",
   "execution_count": 60,
   "metadata": {},
   "outputs": [],
   "source": [
    "from scipy.sparse import hstack, vstack\n",
    "from sklearn.ensemble import GradientBoostingRegressor\n",
    "from sklearn.metrics import mean_squared_error\n",
    "from sklearn.preprocessing import OneHotEncoder, normalize"
   ]
  },
  {
   "cell_type": "code",
   "execution_count": 61,
   "metadata": {},
   "outputs": [
    {
     "name": "stdout",
     "output_type": "stream",
     "text": [
      "RMSE on training set: 1.7374457323171757\n"
     ]
    }
   ],
   "source": [
    "gradient_boost = GradientBoostingRegressor(n_estimators=500)\n",
    "gradient_boost.fit(x_train, y_train)\n",
    "train_pred = gradient_boost.predict(x_train)\n",
    "rmse = np.sqrt(mean_squared_error(y_train, train_pred))\n",
    "print(f\"RMSE on training set: {rmse}\")"
   ]
  },
  {
   "cell_type": "code",
   "execution_count": 86,
   "metadata": {},
   "outputs": [
    {
     "data": {
      "text/html": [
       "<div>\n",
       "<style scoped>\n",
       "    .dataframe tbody tr th:only-of-type {\n",
       "        vertical-align: middle;\n",
       "    }\n",
       "\n",
       "    .dataframe tbody tr th {\n",
       "        vertical-align: top;\n",
       "    }\n",
       "\n",
       "    .dataframe thead th {\n",
       "        text-align: right;\n",
       "    }\n",
       "</style>\n",
       "<table border=\"1\" class=\"dataframe\">\n",
       "  <thead>\n",
       "    <tr style=\"text-align: right;\">\n",
       "      <th></th>\n",
       "      <th>ID</th>\n",
       "      <th>item_cnt_month</th>\n",
       "    </tr>\n",
       "  </thead>\n",
       "  <tbody>\n",
       "    <tr>\n",
       "      <th>1107048</th>\n",
       "      <td>0</td>\n",
       "      <td>0.942729</td>\n",
       "    </tr>\n",
       "    <tr>\n",
       "      <th>1017292</th>\n",
       "      <td>0</td>\n",
       "      <td>0.913729</td>\n",
       "    </tr>\n",
       "    <tr>\n",
       "      <th>952349</th>\n",
       "      <td>0</td>\n",
       "      <td>1.094244</td>\n",
       "    </tr>\n",
       "    <tr>\n",
       "      <th>741819</th>\n",
       "      <td>0</td>\n",
       "      <td>1.104735</td>\n",
       "    </tr>\n",
       "    <tr>\n",
       "      <th>741818</th>\n",
       "      <td>0</td>\n",
       "      <td>1.102284</td>\n",
       "    </tr>\n",
       "    <tr>\n",
       "      <th>...</th>\n",
       "      <td>...</td>\n",
       "      <td>...</td>\n",
       "    </tr>\n",
       "    <tr>\n",
       "      <th>906275</th>\n",
       "      <td>42674</td>\n",
       "      <td>2.706335</td>\n",
       "    </tr>\n",
       "    <tr>\n",
       "      <th>551409</th>\n",
       "      <td>42674</td>\n",
       "      <td>1.415733</td>\n",
       "    </tr>\n",
       "    <tr>\n",
       "      <th>3455</th>\n",
       "      <td>42674</td>\n",
       "      <td>1.240142</td>\n",
       "    </tr>\n",
       "    <tr>\n",
       "      <th>551410</th>\n",
       "      <td>42674</td>\n",
       "      <td>1.411678</td>\n",
       "    </tr>\n",
       "    <tr>\n",
       "      <th>906290</th>\n",
       "      <td>42674</td>\n",
       "      <td>2.691413</td>\n",
       "    </tr>\n",
       "  </tbody>\n",
       "</table>\n",
       "<p>214200 rows × 2 columns</p>\n",
       "</div>"
      ],
      "text/plain": [
       "            ID  item_cnt_month\n",
       "1107048      0        0.942729\n",
       "1017292      0        0.913729\n",
       "952349       0        1.094244\n",
       "741819       0        1.104735\n",
       "741818       0        1.102284\n",
       "...        ...             ...\n",
       "906275   42674        2.706335\n",
       "551409   42674        1.415733\n",
       "3455     42674        1.240142\n",
       "551410   42674        1.411678\n",
       "906290   42674        2.691413\n",
       "\n",
       "[214200 rows x 2 columns]"
      ]
     },
     "execution_count": 86,
     "metadata": {},
     "output_type": "execute_result"
    }
   ],
   "source": [
    "test_pred = gradient_boost.predict(x_test)\n",
    "test_pred = x_test.assign(item_cnt_month=test_pred)\n",
    "test_pred = test_pred[['ID', 'item_cnt_month']]\n",
    "test_pred = test_pred.sort_values(by='ID')\n",
    "test_pred\n",
    "sub2=test_pred[0:214200]\n",
    "sub2.to_csv('submission_pile3.csv',index=False)\n",
    "sub2"
   ]
  },
  {
   "cell_type": "code",
   "execution_count": 84,
   "metadata": {},
   "outputs": [
    {
     "data": {
      "text/html": [
       "<div>\n",
       "<style scoped>\n",
       "    .dataframe tbody tr th:only-of-type {\n",
       "        vertical-align: middle;\n",
       "    }\n",
       "\n",
       "    .dataframe tbody tr th {\n",
       "        vertical-align: top;\n",
       "    }\n",
       "\n",
       "    .dataframe thead th {\n",
       "        text-align: right;\n",
       "    }\n",
       "</style>\n",
       "<table border=\"1\" class=\"dataframe\">\n",
       "  <thead>\n",
       "    <tr style=\"text-align: right;\">\n",
       "      <th></th>\n",
       "      <th>ID</th>\n",
       "      <th>item_cnt_month</th>\n",
       "    </tr>\n",
       "  </thead>\n",
       "  <tbody>\n",
       "    <tr>\n",
       "      <th>0</th>\n",
       "      <td>1107048</td>\n",
       "      <td>0.942729</td>\n",
       "    </tr>\n",
       "    <tr>\n",
       "      <th>1</th>\n",
       "      <td>1017292</td>\n",
       "      <td>0.913729</td>\n",
       "    </tr>\n",
       "    <tr>\n",
       "      <th>2</th>\n",
       "      <td>952349</td>\n",
       "      <td>1.094244</td>\n",
       "    </tr>\n",
       "    <tr>\n",
       "      <th>3</th>\n",
       "      <td>741819</td>\n",
       "      <td>1.104735</td>\n",
       "    </tr>\n",
       "    <tr>\n",
       "      <th>4</th>\n",
       "      <td>741818</td>\n",
       "      <td>1.102284</td>\n",
       "    </tr>\n",
       "    <tr>\n",
       "      <th>...</th>\n",
       "      <td>...</td>\n",
       "      <td>...</td>\n",
       "    </tr>\n",
       "    <tr>\n",
       "      <th>214195</th>\n",
       "      <td>906275</td>\n",
       "      <td>2.706335</td>\n",
       "    </tr>\n",
       "    <tr>\n",
       "      <th>214196</th>\n",
       "      <td>551409</td>\n",
       "      <td>1.415733</td>\n",
       "    </tr>\n",
       "    <tr>\n",
       "      <th>214197</th>\n",
       "      <td>3455</td>\n",
       "      <td>1.240142</td>\n",
       "    </tr>\n",
       "    <tr>\n",
       "      <th>214198</th>\n",
       "      <td>551410</td>\n",
       "      <td>1.411678</td>\n",
       "    </tr>\n",
       "    <tr>\n",
       "      <th>214199</th>\n",
       "      <td>906290</td>\n",
       "      <td>2.691413</td>\n",
       "    </tr>\n",
       "  </tbody>\n",
       "</table>\n",
       "<p>214200 rows × 2 columns</p>\n",
       "</div>"
      ],
      "text/plain": [
       "             ID  item_cnt_month\n",
       "0       1107048        0.942729\n",
       "1       1017292        0.913729\n",
       "2        952349        1.094244\n",
       "3        741819        1.104735\n",
       "4        741818        1.102284\n",
       "...         ...             ...\n",
       "214195   906275        2.706335\n",
       "214196   551409        1.415733\n",
       "214197     3455        1.240142\n",
       "214198   551410        1.411678\n",
       "214199   906290        2.691413\n",
       "\n",
       "[214200 rows x 2 columns]"
      ]
     },
     "execution_count": 84,
     "metadata": {},
     "output_type": "execute_result"
    }
   ],
   "source": [
    "# Create the submission file and submit\n",
    "test_preds = pd.DataFrame(test_pred, columns=['item_cnt_month'])\n",
    "test_preds.to_csv('submission_gb.csv',index_label='ID')\n",
    "\n",
    "sub2=pd.read_csv('submission_gb.csv')\n",
    "fin2=sub2[0:214200]\n",
    "fin2\n",
    "\n",
    "fin2.to_csv('submisiion_pile2.csv',index=False)\n",
    "fin2"
   ]
  },
  {
   "cell_type": "code",
   "execution_count": 64,
   "metadata": {},
   "outputs": [
    {
     "name": "stdout",
     "output_type": "stream",
     "text": [
      "Train set mse: 0.3429798608273063\n",
      "Test set mse: 1.8789330755996352\n",
      "Test set score: 0.9294458936906679\n"
     ]
    }
   ],
   "source": [
    "from sklearn.ensemble import RandomForestRegressor\n",
    "from sklearn.metrics import mean_squared_error\n",
    "RFR = RandomForestRegressor(n_estimators = 100)\n",
    "RFR.fit(x_train,y_train)\n",
    "\n",
    "print('Train set mse:', mean_squared_error(y_train, RFR.predict(x_train)))\n",
    "print('Test set mse:', mean_squared_error(y_valid, RFR.predict(x_valid)))\n",
    "print('Test set score:', RFR.score(x_train,y_train))"
   ]
  },
  {
   "cell_type": "markdown",
   "metadata": {},
   "source": [
    "# 참고한 자료"
   ]
  },
  {
   "cell_type": "markdown",
   "metadata": {},
   "source": [
    "### https://www.kaggle.com/santosh1974/predict-future-sales"
   ]
  },
  {
   "cell_type": "code",
   "execution_count": null,
   "metadata": {},
   "outputs": [],
   "source": []
  }
 ],
 "metadata": {
  "kernelspec": {
   "display_name": "Python 3",
   "language": "python",
   "name": "python3"
  },
  "language_info": {
   "codemirror_mode": {
    "name": "ipython",
    "version": 3
   },
   "file_extension": ".py",
   "mimetype": "text/x-python",
   "name": "python",
   "nbconvert_exporter": "python",
   "pygments_lexer": "ipython3",
   "version": "3.8.5"
  }
 },
 "nbformat": 4,
 "nbformat_minor": 4
}
